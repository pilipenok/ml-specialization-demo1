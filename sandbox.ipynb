{
 "cells": [
  {
   "cell_type": "code",
   "execution_count": 1,
   "outputs": [
    {
     "name": "stdout",
     "output_type": "stream",
     "text": [
      "env: GOOGLE_CLOUD_PROJECT=o-epm-gcp-by-meetup1-ml-t1iylu\n",
      "env: GOOGLE_APPLICATION_CREDENTIALS=/Users/oleg/Projects/EPAM/creds.json\n",
      "/Users/oleg/Projects/EPAM/taxi/ml-specialization-demo1/tfx-pipeline\n"
     ]
    }
   ],
   "source": [
    "GOOGLE_CLOUD_PROJECT=\"o-epm-gcp-by-meetup1-ml-t1iylu\"\n",
    "%env GOOGLE_CLOUD_PROJECT={GOOGLE_CLOUD_PROJECT}\n",
    "%env GOOGLE_APPLICATION_CREDENTIALS=/Users/oleg/Projects/EPAM/creds.json\n",
    "%cd /Users/oleg/Projects/EPAM/taxi/ml-specialization-demo1/tfx-pipeline\n",
    "\n",
    "from pipeline import configs, components\n",
    "from tfx.orchestration.experimental.interactive.interactive_context import InteractiveContext\n",
    "import tfx\n",
    "context = InteractiveContext(\n",
    "    pipeline_root=configs.PIPELINE_ROOT,\n",
    "    metadata_connection_config=tfx.orchestration.metadata.sqlite_metadata_connection_config(\n",
    "              '/Users/oleg/Projects/EPAM/taxi/metadata1.db'\n",
    "    )\n",
    ")"
   ],
   "metadata": {
    "collapsed": false,
    "pycharm": {
     "name": "#%%\n"
    }
   }
  },
  {
   "cell_type": "code",
   "execution_count": 3,
   "outputs": [
    {
     "ename": "ValueError",
     "evalue": "push_destination is required unless a custom_executor_spec is supplied that does not require it.",
     "output_type": "error",
     "traceback": [
      "\u001B[0;31m---------------------------------------------------------------------------\u001B[0m",
      "\u001B[0;31mValueError\u001B[0m                                Traceback (most recent call last)",
      "\u001B[0;32m/var/folders/2f/96xj0q5139vghz17xfkfghpw0000gn/T/ipykernel_48899/3322821055.py\u001B[0m in \u001B[0;36m<module>\u001B[0;34m\u001B[0m\n\u001B[1;32m     21\u001B[0m \u001B[0mcontext\u001B[0m\u001B[0;34m.\u001B[0m\u001B[0mrun\u001B[0m\u001B[0;34m(\u001B[0m\u001B[0mevaluator\u001B[0m\u001B[0;34m)\u001B[0m\u001B[0;34m\u001B[0m\u001B[0;34m\u001B[0m\u001B[0m\n\u001B[1;32m     22\u001B[0m \u001B[0;34m\u001B[0m\u001B[0m\n\u001B[0;32m---> 23\u001B[0;31m \u001B[0mpusher\u001B[0m \u001B[0;34m=\u001B[0m \u001B[0mcomponents\u001B[0m\u001B[0;34m.\u001B[0m\u001B[0mpusher_vertex\u001B[0m\u001B[0;34m(\u001B[0m\u001B[0mtrainer\u001B[0m\u001B[0;34m=\u001B[0m\u001B[0mtrainer\u001B[0m\u001B[0;34m,\u001B[0m \u001B[0mevaluator\u001B[0m\u001B[0;34m=\u001B[0m\u001B[0mevaluator\u001B[0m\u001B[0;34m)\u001B[0m\u001B[0;34m\u001B[0m\u001B[0;34m\u001B[0m\u001B[0m\n\u001B[0m\u001B[1;32m     24\u001B[0m \u001B[0mcontext\u001B[0m\u001B[0;34m.\u001B[0m\u001B[0mrun\u001B[0m\u001B[0;34m(\u001B[0m\u001B[0mpusher\u001B[0m\u001B[0;34m)\u001B[0m\u001B[0;34m\u001B[0m\u001B[0;34m\u001B[0m\u001B[0m\n\u001B[1;32m     25\u001B[0m \u001B[0mpusher\u001B[0m\u001B[0;34m.\u001B[0m\u001B[0moutputs\u001B[0m\u001B[0;34m\u001B[0m\u001B[0;34m\u001B[0m\u001B[0m\n",
      "\u001B[0;32m~/Projects/EPAM/taxi/ml-specialization-demo1/tfx-pipeline/pipeline/components.py\u001B[0m in \u001B[0;36mpusher_vertex\u001B[0;34m(trainer, evaluator)\u001B[0m\n\u001B[1;32m    191\u001B[0m     return tfx.components.Pusher(\n\u001B[1;32m    192\u001B[0m         \u001B[0mmodel\u001B[0m\u001B[0;34m=\u001B[0m\u001B[0mtrainer\u001B[0m\u001B[0;34m.\u001B[0m\u001B[0moutputs\u001B[0m\u001B[0;34m[\u001B[0m\u001B[0;34m'model'\u001B[0m\u001B[0;34m]\u001B[0m\u001B[0;34m,\u001B[0m\u001B[0;34m\u001B[0m\u001B[0;34m\u001B[0m\u001B[0m\n\u001B[0;32m--> 193\u001B[0;31m         \u001B[0mmodel_blessing\u001B[0m\u001B[0;34m=\u001B[0m\u001B[0mevaluator\u001B[0m\u001B[0;34m.\u001B[0m\u001B[0moutputs\u001B[0m\u001B[0;34m[\u001B[0m\u001B[0;34m'blessing'\u001B[0m\u001B[0;34m]\u001B[0m\u001B[0;34m,\u001B[0m\u001B[0;34m\u001B[0m\u001B[0;34m\u001B[0m\u001B[0m\n\u001B[0m\u001B[1;32m    194\u001B[0m         \u001B[0mcustom_config\u001B[0m\u001B[0;34m=\u001B[0m\u001B[0;34m{\u001B[0m\u001B[0mENABLE_VERTEX_KEY\u001B[0m\u001B[0;34m:\u001B[0m \u001B[0;32mTrue\u001B[0m\u001B[0;34m}\u001B[0m\u001B[0;34m\u001B[0m\u001B[0;34m\u001B[0m\u001B[0m\n\u001B[1;32m    195\u001B[0m \u001B[0;34m\u001B[0m\u001B[0m\n",
      "\u001B[0;32m~/Projects/EPAM/taxi/ml-specialization-demo1/venv/lib/python3.8/site-packages/tfx/components/pusher/component.py\u001B[0m in \u001B[0;36m__init__\u001B[0;34m(self, model, model_blessing, infra_blessing, push_destination, custom_config, custom_executor_spec)\u001B[0m\n\u001B[1;32m    105\u001B[0m     if (push_destination is None and not custom_executor_spec and\n\u001B[1;32m    106\u001B[0m         self.EXECUTOR_SPEC.executor_class == executor.Executor):\n\u001B[0;32m--> 107\u001B[0;31m       raise ValueError('push_destination is required unless a '\n\u001B[0m\u001B[1;32m    108\u001B[0m                        \u001B[0;34m'custom_executor_spec is supplied that does not require '\u001B[0m\u001B[0;34m\u001B[0m\u001B[0;34m\u001B[0m\u001B[0m\n\u001B[1;32m    109\u001B[0m                        'it.')\n",
      "\u001B[0;31mValueError\u001B[0m: push_destination is required unless a custom_executor_spec is supplied that does not require it."
     ]
    }
   ],
   "source": [
    "example_gen=components.example_gen()\n",
    "context.run(example_gen)\n",
    "\n",
    "statistics_gen=components.statistics_gen(example_gen=example_gen)\n",
    "context.run(statistics_gen)\n",
    "\n",
    "schema_gen = components.schema_gen(statistics_gen=statistics_gen)\n",
    "context.run(schema_gen)\n",
    "\n",
    "transform = components.transform(example_gen=example_gen,schema_gen=schema_gen)\n",
    "context.run(transform)\n",
    "\n",
    "trainer = components.trainer_vertex(\n",
    "    example_gen=example_gen, schema_gen=schema_gen, transform=transform)\n",
    "context.run(trainer)\n",
    "\n",
    "model_resolver = components.model_resolver()\n",
    "context.run(model_resolver)\n",
    "\n",
    "evaluator = components.evaluator(example_gen=example_gen, trainer=trainer, model_resolver=model_resolver)\n",
    "context.run(evaluator)\n",
    "\n",
    "pusher = components.pusher_vertex(trainer=trainer, evaluator=evaluator)\n",
    "context.run(pusher)\n",
    "pusher.outputs\n",
    "\n",
    "\n"
   ],
   "metadata": {
    "collapsed": false,
    "pycharm": {
     "name": "#%%\n"
    }
   }
  },
  {
   "cell_type": "code",
   "execution_count": 5,
   "outputs": [],
   "source": [
    "from tfx.dsl.components.common.importer import Importer\n",
    "model = Importer(\n",
    "    source_uri='gs://chicago-taxi-ml-demo-1/tfx_pipeline_output/tfx-pipeline-ml/Trainer/model/1020',\n",
    "    artifact_type=tfx.types.standard_artifacts.Model,\n",
    "    reimport=True)\n",
    "\n",
    "context.run(model)\n",
    "\n",
    "model=model.outputs['result']"
   ],
   "metadata": {
    "collapsed": false,
    "pycharm": {
     "name": "#%%\n"
    }
   }
  },
  {
   "cell_type": "code",
   "execution_count": 6,
   "outputs": [
    {
     "name": "stderr",
     "output_type": "stream",
     "text": [
      "WARNING:absl:`custom_executor_spec` is deprecated. Please customize component directly.\n",
      "WARNING:absl:Pusher is going to push the model without validation. Consider using Evaluator or InfraValidator in your pipeline.\n",
      "WARNING:absl:Length of label `tfx-extensions-google_cloud_ai_platform-pusher-executor-executor` exceeds maximum length(63), trimmed.\n",
      "WARNING:absl:Current python version is not the same as default of 3.7.\n"
     ]
    },
    {
     "data": {
      "text/plain": "ExecutionResult(\n    component_id: Pusher\n    execution_id: 97\n    outputs:\n        pushed_model: Channel(\n            type_name: PushedModel\n            artifacts: [Artifact(artifact: id: 112\n        type_id: 14\n        uri: \"gs://chicago-taxi-ml-demo-1/tfx_pipeline_output/tfx-pipeline-ml/Pusher/pushed_model/97\"\n        custom_properties {\n          key: \"name\"\n          value {\n            string_value: \"pushed_model\"\n          }\n        }\n        custom_properties {\n          key: \"producer_component\"\n          value {\n            string_value: \"Pusher\"\n          }\n        }\n        custom_properties {\n          key: \"pushed\"\n          value {\n            int_value: 1\n          }\n        }\n        custom_properties {\n          key: \"pushed_destination\"\n          value {\n            string_value: \"projects/1012336990068/locations/us-central1/models/3651636445518495744\"\n          }\n        }\n        custom_properties {\n          key: \"state\"\n          value {\n            string_value: \"published\"\n          }\n        }\n        custom_properties {\n          key: \"tfx_version\"\n          value {\n            string_value: \"1.2.0\"\n          }\n        }\n        state: LIVE\n        , artifact_type: id: 14\n        name: \"PushedModel\"\n        )]\n            additional_properties: {}\n            additional_custom_properties: {}\n        ))",
      "text/html": "<style>\n.tfx-object.expanded {\n  padding: 4px 8px 4px 8px;\n  background: white;\n  border: 1px solid #bbbbbb;\n  box-shadow: 4px 4px 2px rgba(0,0,0,0.05);\n}\n.tfx-object, .tfx-object * {\n  font-size: 11pt;\n}\n.tfx-object > .title {\n  cursor: pointer;\n}\n.tfx-object .expansion-marker {\n  color: #999999;\n}\n.tfx-object.expanded > .title > .expansion-marker:before {\n  content: '▼';\n}\n.tfx-object.collapsed > .title > .expansion-marker:before {\n  content: '▶';\n}\n.tfx-object .class-name {\n  font-weight: bold;\n}\n.tfx-object .deemphasize {\n  opacity: 0.5;\n}\n.tfx-object.collapsed > table.attr-table {\n  display: none;\n}\n.tfx-object.expanded > table.attr-table {\n  display: block;\n}\n.tfx-object table.attr-table {\n  border: 2px solid white;\n  margin-top: 5px;\n}\n.tfx-object table.attr-table td.attr-name {\n  vertical-align: top;\n  font-weight: bold;\n}\n.tfx-object table.attr-table td.attrvalue {\n  text-align: left;\n}\n</style>\n<script>\nfunction toggleTfxObject(element) {\n  var objElement = element.parentElement;\n  if (objElement.classList.contains('collapsed')) {\n    objElement.classList.remove('collapsed');\n    objElement.classList.add('expanded');\n  } else {\n    objElement.classList.add('collapsed');\n    objElement.classList.remove('expanded');\n  }\n}\n</script>\n<div class=\"tfx-object expanded\"><div class = \"title\" onclick=\"toggleTfxObject(this)\"><span class=\"expansion-marker\"></span><span class=\"class-name\">ExecutionResult</span><span class=\"deemphasize\"> at 0x175b48dc0</span></div><table class=\"attr-table\"><tr><td class=\"attr-name\">.execution_id</td><td class = \"attrvalue\">97</td></tr><tr><td class=\"attr-name\">.component</td><td class = \"attrvalue\"><style>\n.tfx-object.expanded {\n  padding: 4px 8px 4px 8px;\n  background: white;\n  border: 1px solid #bbbbbb;\n  box-shadow: 4px 4px 2px rgba(0,0,0,0.05);\n}\n.tfx-object, .tfx-object * {\n  font-size: 11pt;\n}\n.tfx-object > .title {\n  cursor: pointer;\n}\n.tfx-object .expansion-marker {\n  color: #999999;\n}\n.tfx-object.expanded > .title > .expansion-marker:before {\n  content: '▼';\n}\n.tfx-object.collapsed > .title > .expansion-marker:before {\n  content: '▶';\n}\n.tfx-object .class-name {\n  font-weight: bold;\n}\n.tfx-object .deemphasize {\n  opacity: 0.5;\n}\n.tfx-object.collapsed > table.attr-table {\n  display: none;\n}\n.tfx-object.expanded > table.attr-table {\n  display: block;\n}\n.tfx-object table.attr-table {\n  border: 2px solid white;\n  margin-top: 5px;\n}\n.tfx-object table.attr-table td.attr-name {\n  vertical-align: top;\n  font-weight: bold;\n}\n.tfx-object table.attr-table td.attrvalue {\n  text-align: left;\n}\n</style>\n<script>\nfunction toggleTfxObject(element) {\n  var objElement = element.parentElement;\n  if (objElement.classList.contains('collapsed')) {\n    objElement.classList.remove('collapsed');\n    objElement.classList.add('expanded');\n  } else {\n    objElement.classList.add('collapsed');\n    objElement.classList.remove('expanded');\n  }\n}\n</script>\n<div class=\"tfx-object collapsed\"><div class = \"title\" onclick=\"toggleTfxObject(this)\"><span class=\"expansion-marker\"></span><span class=\"class-name\">Pusher</span><span class=\"deemphasize\"> at 0x175c636a0</span></div><table class=\"attr-table\"><tr><td class=\"attr-name\">.inputs</td><td class = \"attrvalue\"><table class=\"attr-table\"><tr><td class=\"attr-name\">['model']</td><td class = \"attrvalue\"><style>\n.tfx-object.expanded {\n  padding: 4px 8px 4px 8px;\n  background: white;\n  border: 1px solid #bbbbbb;\n  box-shadow: 4px 4px 2px rgba(0,0,0,0.05);\n}\n.tfx-object, .tfx-object * {\n  font-size: 11pt;\n}\n.tfx-object > .title {\n  cursor: pointer;\n}\n.tfx-object .expansion-marker {\n  color: #999999;\n}\n.tfx-object.expanded > .title > .expansion-marker:before {\n  content: '▼';\n}\n.tfx-object.collapsed > .title > .expansion-marker:before {\n  content: '▶';\n}\n.tfx-object .class-name {\n  font-weight: bold;\n}\n.tfx-object .deemphasize {\n  opacity: 0.5;\n}\n.tfx-object.collapsed > table.attr-table {\n  display: none;\n}\n.tfx-object.expanded > table.attr-table {\n  display: block;\n}\n.tfx-object table.attr-table {\n  border: 2px solid white;\n  margin-top: 5px;\n}\n.tfx-object table.attr-table td.attr-name {\n  vertical-align: top;\n  font-weight: bold;\n}\n.tfx-object table.attr-table td.attrvalue {\n  text-align: left;\n}\n</style>\n<script>\nfunction toggleTfxObject(element) {\n  var objElement = element.parentElement;\n  if (objElement.classList.contains('collapsed')) {\n    objElement.classList.remove('collapsed');\n    objElement.classList.add('expanded');\n  } else {\n    objElement.classList.add('collapsed');\n    objElement.classList.remove('expanded');\n  }\n}\n</script>\n<div class=\"tfx-object collapsed\"><div class = \"title\" onclick=\"toggleTfxObject(this)\"><span class=\"expansion-marker\"></span><span class=\"class-name\">Channel</span> of type <span class=\"class-name\">'Model'</span> (1 artifact)<span class=\"deemphasize\"> at 0x1736aeac0</span></div><table class=\"attr-table\"><tr><td class=\"attr-name\">.type_name</td><td class = \"attrvalue\">Model</td></tr><tr><td class=\"attr-name\">._artifacts</td><td class = \"attrvalue\"><table class=\"attr-table\"><tr><td class=\"attr-name\">[0]</td><td class = \"attrvalue\"><style>\n.tfx-object.expanded {\n  padding: 4px 8px 4px 8px;\n  background: white;\n  border: 1px solid #bbbbbb;\n  box-shadow: 4px 4px 2px rgba(0,0,0,0.05);\n}\n.tfx-object, .tfx-object * {\n  font-size: 11pt;\n}\n.tfx-object > .title {\n  cursor: pointer;\n}\n.tfx-object .expansion-marker {\n  color: #999999;\n}\n.tfx-object.expanded > .title > .expansion-marker:before {\n  content: '▼';\n}\n.tfx-object.collapsed > .title > .expansion-marker:before {\n  content: '▶';\n}\n.tfx-object .class-name {\n  font-weight: bold;\n}\n.tfx-object .deemphasize {\n  opacity: 0.5;\n}\n.tfx-object.collapsed > table.attr-table {\n  display: none;\n}\n.tfx-object.expanded > table.attr-table {\n  display: block;\n}\n.tfx-object table.attr-table {\n  border: 2px solid white;\n  margin-top: 5px;\n}\n.tfx-object table.attr-table td.attr-name {\n  vertical-align: top;\n  font-weight: bold;\n}\n.tfx-object table.attr-table td.attrvalue {\n  text-align: left;\n}\n</style>\n<script>\nfunction toggleTfxObject(element) {\n  var objElement = element.parentElement;\n  if (objElement.classList.contains('collapsed')) {\n    objElement.classList.remove('collapsed');\n    objElement.classList.add('expanded');\n  } else {\n    objElement.classList.add('collapsed');\n    objElement.classList.remove('expanded');\n  }\n}\n</script>\n<div class=\"tfx-object collapsed\"><div class = \"title\" onclick=\"toggleTfxObject(this)\"><span class=\"expansion-marker\"></span><span class=\"class-name\">Artifact</span> of type <span class=\"class-name\">'Model'</span> (uri: gs://chicago-taxi-ml-demo-1/tfx_pipeline_output/tfx-pipeline-ml/Trainer/model/1020)<span class=\"deemphasize\"> at 0x1736c99a0</span></div><table class=\"attr-table\"><tr><td class=\"attr-name\">.type</td><td class = \"attrvalue\">&lt;class &#x27;tfx.types.standard_artifacts.Model&#x27;&gt;</td></tr><tr><td class=\"attr-name\">.uri</td><td class = \"attrvalue\">gs://chicago-taxi-ml-demo-1/tfx_pipeline_output/tfx-pipeline-ml/Trainer/model/1020</td></tr></table></div></td></tr></table></td></tr></table></div></td></tr></table></td></tr><tr><td class=\"attr-name\">.outputs</td><td class = \"attrvalue\"><table class=\"attr-table\"><tr><td class=\"attr-name\">['pushed_model']</td><td class = \"attrvalue\"><style>\n.tfx-object.expanded {\n  padding: 4px 8px 4px 8px;\n  background: white;\n  border: 1px solid #bbbbbb;\n  box-shadow: 4px 4px 2px rgba(0,0,0,0.05);\n}\n.tfx-object, .tfx-object * {\n  font-size: 11pt;\n}\n.tfx-object > .title {\n  cursor: pointer;\n}\n.tfx-object .expansion-marker {\n  color: #999999;\n}\n.tfx-object.expanded > .title > .expansion-marker:before {\n  content: '▼';\n}\n.tfx-object.collapsed > .title > .expansion-marker:before {\n  content: '▶';\n}\n.tfx-object .class-name {\n  font-weight: bold;\n}\n.tfx-object .deemphasize {\n  opacity: 0.5;\n}\n.tfx-object.collapsed > table.attr-table {\n  display: none;\n}\n.tfx-object.expanded > table.attr-table {\n  display: block;\n}\n.tfx-object table.attr-table {\n  border: 2px solid white;\n  margin-top: 5px;\n}\n.tfx-object table.attr-table td.attr-name {\n  vertical-align: top;\n  font-weight: bold;\n}\n.tfx-object table.attr-table td.attrvalue {\n  text-align: left;\n}\n</style>\n<script>\nfunction toggleTfxObject(element) {\n  var objElement = element.parentElement;\n  if (objElement.classList.contains('collapsed')) {\n    objElement.classList.remove('collapsed');\n    objElement.classList.add('expanded');\n  } else {\n    objElement.classList.add('collapsed');\n    objElement.classList.remove('expanded');\n  }\n}\n</script>\n<div class=\"tfx-object collapsed\"><div class = \"title\" onclick=\"toggleTfxObject(this)\"><span class=\"expansion-marker\"></span><span class=\"class-name\">Channel</span> of type <span class=\"class-name\">'PushedModel'</span> (1 artifact)<span class=\"deemphasize\"> at 0x175c63100</span></div><table class=\"attr-table\"><tr><td class=\"attr-name\">.type_name</td><td class = \"attrvalue\">PushedModel</td></tr><tr><td class=\"attr-name\">._artifacts</td><td class = \"attrvalue\"><table class=\"attr-table\"><tr><td class=\"attr-name\">[0]</td><td class = \"attrvalue\"><style>\n.tfx-object.expanded {\n  padding: 4px 8px 4px 8px;\n  background: white;\n  border: 1px solid #bbbbbb;\n  box-shadow: 4px 4px 2px rgba(0,0,0,0.05);\n}\n.tfx-object, .tfx-object * {\n  font-size: 11pt;\n}\n.tfx-object > .title {\n  cursor: pointer;\n}\n.tfx-object .expansion-marker {\n  color: #999999;\n}\n.tfx-object.expanded > .title > .expansion-marker:before {\n  content: '▼';\n}\n.tfx-object.collapsed > .title > .expansion-marker:before {\n  content: '▶';\n}\n.tfx-object .class-name {\n  font-weight: bold;\n}\n.tfx-object .deemphasize {\n  opacity: 0.5;\n}\n.tfx-object.collapsed > table.attr-table {\n  display: none;\n}\n.tfx-object.expanded > table.attr-table {\n  display: block;\n}\n.tfx-object table.attr-table {\n  border: 2px solid white;\n  margin-top: 5px;\n}\n.tfx-object table.attr-table td.attr-name {\n  vertical-align: top;\n  font-weight: bold;\n}\n.tfx-object table.attr-table td.attrvalue {\n  text-align: left;\n}\n</style>\n<script>\nfunction toggleTfxObject(element) {\n  var objElement = element.parentElement;\n  if (objElement.classList.contains('collapsed')) {\n    objElement.classList.remove('collapsed');\n    objElement.classList.add('expanded');\n  } else {\n    objElement.classList.add('collapsed');\n    objElement.classList.remove('expanded');\n  }\n}\n</script>\n<div class=\"tfx-object collapsed\"><div class = \"title\" onclick=\"toggleTfxObject(this)\"><span class=\"expansion-marker\"></span><span class=\"class-name\">Artifact</span> of type <span class=\"class-name\">'PushedModel'</span> (uri: gs://chicago-taxi-ml-demo-1/tfx_pipeline_output/tfx-pipeline-ml/Pusher/pushed_model/97)<span class=\"deemphasize\"> at 0x175b48730</span></div><table class=\"attr-table\"><tr><td class=\"attr-name\">.type</td><td class = \"attrvalue\">&lt;class &#x27;tfx.types.standard_artifacts.PushedModel&#x27;&gt;</td></tr><tr><td class=\"attr-name\">.uri</td><td class = \"attrvalue\">gs://chicago-taxi-ml-demo-1/tfx_pipeline_output/tfx-pipeline-ml/Pusher/pushed_model/97</td></tr></table></div></td></tr></table></td></tr></table></div></td></tr></table></td></tr><tr><td class=\"attr-name\">.exec_properties</td><td class = \"attrvalue\"><table class=\"attr-table\"><tr><td class=\"attr-name\">['push_destination']</td><td class = \"attrvalue\">None</td></tr><tr><td class=\"attr-name\">['custom_config']</td><td class = \"attrvalue\">{&quot;ai_platform_enable_vertex&quot;: true, &quot;ai_platform_serving_args&quot;: {&quot;endpoint_name&quot;: &quot;my_model_endpoint&quot;, &quot;machine_type&quot;: &quot;n1-standard-2&quot;, &quot;max_replica_count&quot;: 2, &quot;min_replica_count&quot;: 1, &quot;model_name&quot;: &quot;try_pusher&quot;, &quot;project_id&quot;: &quot;o-epm-gcp-by-meetup1-ml-t1iylu&quot;, &quot;regions&quot;: [&quot;us-central1&quot;]}, &quot;ai_platform_vertex_container_image_uri&quot;: &quot;us-docker.pkg.dev/vertex-ai/prediction/tf2-cpu.2-5:latest&quot;, &quot;ai_platform_vertex_region&quot;: &quot;us-central1&quot;}</td></tr></table></td></tr></table></div></td></tr><tr><td class=\"attr-name\">.component.inputs</td><td class = \"attrvalue\"><table class=\"attr-table\"><tr><td class=\"attr-name\">['model']</td><td class = \"attrvalue\"><style>\n.tfx-object.expanded {\n  padding: 4px 8px 4px 8px;\n  background: white;\n  border: 1px solid #bbbbbb;\n  box-shadow: 4px 4px 2px rgba(0,0,0,0.05);\n}\n.tfx-object, .tfx-object * {\n  font-size: 11pt;\n}\n.tfx-object > .title {\n  cursor: pointer;\n}\n.tfx-object .expansion-marker {\n  color: #999999;\n}\n.tfx-object.expanded > .title > .expansion-marker:before {\n  content: '▼';\n}\n.tfx-object.collapsed > .title > .expansion-marker:before {\n  content: '▶';\n}\n.tfx-object .class-name {\n  font-weight: bold;\n}\n.tfx-object .deemphasize {\n  opacity: 0.5;\n}\n.tfx-object.collapsed > table.attr-table {\n  display: none;\n}\n.tfx-object.expanded > table.attr-table {\n  display: block;\n}\n.tfx-object table.attr-table {\n  border: 2px solid white;\n  margin-top: 5px;\n}\n.tfx-object table.attr-table td.attr-name {\n  vertical-align: top;\n  font-weight: bold;\n}\n.tfx-object table.attr-table td.attrvalue {\n  text-align: left;\n}\n</style>\n<script>\nfunction toggleTfxObject(element) {\n  var objElement = element.parentElement;\n  if (objElement.classList.contains('collapsed')) {\n    objElement.classList.remove('collapsed');\n    objElement.classList.add('expanded');\n  } else {\n    objElement.classList.add('collapsed');\n    objElement.classList.remove('expanded');\n  }\n}\n</script>\n<div class=\"tfx-object collapsed\"><div class = \"title\" onclick=\"toggleTfxObject(this)\"><span class=\"expansion-marker\"></span><span class=\"class-name\">Channel</span> of type <span class=\"class-name\">'Model'</span> (1 artifact)<span class=\"deemphasize\"> at 0x1736aeac0</span></div><table class=\"attr-table\"><tr><td class=\"attr-name\">.type_name</td><td class = \"attrvalue\">Model</td></tr><tr><td class=\"attr-name\">._artifacts</td><td class = \"attrvalue\"><table class=\"attr-table\"><tr><td class=\"attr-name\">[0]</td><td class = \"attrvalue\"><style>\n.tfx-object.expanded {\n  padding: 4px 8px 4px 8px;\n  background: white;\n  border: 1px solid #bbbbbb;\n  box-shadow: 4px 4px 2px rgba(0,0,0,0.05);\n}\n.tfx-object, .tfx-object * {\n  font-size: 11pt;\n}\n.tfx-object > .title {\n  cursor: pointer;\n}\n.tfx-object .expansion-marker {\n  color: #999999;\n}\n.tfx-object.expanded > .title > .expansion-marker:before {\n  content: '▼';\n}\n.tfx-object.collapsed > .title > .expansion-marker:before {\n  content: '▶';\n}\n.tfx-object .class-name {\n  font-weight: bold;\n}\n.tfx-object .deemphasize {\n  opacity: 0.5;\n}\n.tfx-object.collapsed > table.attr-table {\n  display: none;\n}\n.tfx-object.expanded > table.attr-table {\n  display: block;\n}\n.tfx-object table.attr-table {\n  border: 2px solid white;\n  margin-top: 5px;\n}\n.tfx-object table.attr-table td.attr-name {\n  vertical-align: top;\n  font-weight: bold;\n}\n.tfx-object table.attr-table td.attrvalue {\n  text-align: left;\n}\n</style>\n<script>\nfunction toggleTfxObject(element) {\n  var objElement = element.parentElement;\n  if (objElement.classList.contains('collapsed')) {\n    objElement.classList.remove('collapsed');\n    objElement.classList.add('expanded');\n  } else {\n    objElement.classList.add('collapsed');\n    objElement.classList.remove('expanded');\n  }\n}\n</script>\n<div class=\"tfx-object collapsed\"><div class = \"title\" onclick=\"toggleTfxObject(this)\"><span class=\"expansion-marker\"></span><span class=\"class-name\">Artifact</span> of type <span class=\"class-name\">'Model'</span> (uri: gs://chicago-taxi-ml-demo-1/tfx_pipeline_output/tfx-pipeline-ml/Trainer/model/1020)<span class=\"deemphasize\"> at 0x1736c99a0</span></div><table class=\"attr-table\"><tr><td class=\"attr-name\">.type</td><td class = \"attrvalue\">&lt;class &#x27;tfx.types.standard_artifacts.Model&#x27;&gt;</td></tr><tr><td class=\"attr-name\">.uri</td><td class = \"attrvalue\">gs://chicago-taxi-ml-demo-1/tfx_pipeline_output/tfx-pipeline-ml/Trainer/model/1020</td></tr></table></div></td></tr></table></td></tr></table></div></td></tr></table></td></tr><tr><td class=\"attr-name\">.component.outputs</td><td class = \"attrvalue\"><table class=\"attr-table\"><tr><td class=\"attr-name\">['pushed_model']</td><td class = \"attrvalue\"><style>\n.tfx-object.expanded {\n  padding: 4px 8px 4px 8px;\n  background: white;\n  border: 1px solid #bbbbbb;\n  box-shadow: 4px 4px 2px rgba(0,0,0,0.05);\n}\n.tfx-object, .tfx-object * {\n  font-size: 11pt;\n}\n.tfx-object > .title {\n  cursor: pointer;\n}\n.tfx-object .expansion-marker {\n  color: #999999;\n}\n.tfx-object.expanded > .title > .expansion-marker:before {\n  content: '▼';\n}\n.tfx-object.collapsed > .title > .expansion-marker:before {\n  content: '▶';\n}\n.tfx-object .class-name {\n  font-weight: bold;\n}\n.tfx-object .deemphasize {\n  opacity: 0.5;\n}\n.tfx-object.collapsed > table.attr-table {\n  display: none;\n}\n.tfx-object.expanded > table.attr-table {\n  display: block;\n}\n.tfx-object table.attr-table {\n  border: 2px solid white;\n  margin-top: 5px;\n}\n.tfx-object table.attr-table td.attr-name {\n  vertical-align: top;\n  font-weight: bold;\n}\n.tfx-object table.attr-table td.attrvalue {\n  text-align: left;\n}\n</style>\n<script>\nfunction toggleTfxObject(element) {\n  var objElement = element.parentElement;\n  if (objElement.classList.contains('collapsed')) {\n    objElement.classList.remove('collapsed');\n    objElement.classList.add('expanded');\n  } else {\n    objElement.classList.add('collapsed');\n    objElement.classList.remove('expanded');\n  }\n}\n</script>\n<div class=\"tfx-object collapsed\"><div class = \"title\" onclick=\"toggleTfxObject(this)\"><span class=\"expansion-marker\"></span><span class=\"class-name\">Channel</span> of type <span class=\"class-name\">'PushedModel'</span> (1 artifact)<span class=\"deemphasize\"> at 0x175c63100</span></div><table class=\"attr-table\"><tr><td class=\"attr-name\">.type_name</td><td class = \"attrvalue\">PushedModel</td></tr><tr><td class=\"attr-name\">._artifacts</td><td class = \"attrvalue\"><table class=\"attr-table\"><tr><td class=\"attr-name\">[0]</td><td class = \"attrvalue\"><style>\n.tfx-object.expanded {\n  padding: 4px 8px 4px 8px;\n  background: white;\n  border: 1px solid #bbbbbb;\n  box-shadow: 4px 4px 2px rgba(0,0,0,0.05);\n}\n.tfx-object, .tfx-object * {\n  font-size: 11pt;\n}\n.tfx-object > .title {\n  cursor: pointer;\n}\n.tfx-object .expansion-marker {\n  color: #999999;\n}\n.tfx-object.expanded > .title > .expansion-marker:before {\n  content: '▼';\n}\n.tfx-object.collapsed > .title > .expansion-marker:before {\n  content: '▶';\n}\n.tfx-object .class-name {\n  font-weight: bold;\n}\n.tfx-object .deemphasize {\n  opacity: 0.5;\n}\n.tfx-object.collapsed > table.attr-table {\n  display: none;\n}\n.tfx-object.expanded > table.attr-table {\n  display: block;\n}\n.tfx-object table.attr-table {\n  border: 2px solid white;\n  margin-top: 5px;\n}\n.tfx-object table.attr-table td.attr-name {\n  vertical-align: top;\n  font-weight: bold;\n}\n.tfx-object table.attr-table td.attrvalue {\n  text-align: left;\n}\n</style>\n<script>\nfunction toggleTfxObject(element) {\n  var objElement = element.parentElement;\n  if (objElement.classList.contains('collapsed')) {\n    objElement.classList.remove('collapsed');\n    objElement.classList.add('expanded');\n  } else {\n    objElement.classList.add('collapsed');\n    objElement.classList.remove('expanded');\n  }\n}\n</script>\n<div class=\"tfx-object collapsed\"><div class = \"title\" onclick=\"toggleTfxObject(this)\"><span class=\"expansion-marker\"></span><span class=\"class-name\">Artifact</span> of type <span class=\"class-name\">'PushedModel'</span> (uri: gs://chicago-taxi-ml-demo-1/tfx_pipeline_output/tfx-pipeline-ml/Pusher/pushed_model/97)<span class=\"deemphasize\"> at 0x175b48730</span></div><table class=\"attr-table\"><tr><td class=\"attr-name\">.type</td><td class = \"attrvalue\">&lt;class &#x27;tfx.types.standard_artifacts.PushedModel&#x27;&gt;</td></tr><tr><td class=\"attr-name\">.uri</td><td class = \"attrvalue\">gs://chicago-taxi-ml-demo-1/tfx_pipeline_output/tfx-pipeline-ml/Pusher/pushed_model/97</td></tr></table></div></td></tr></table></td></tr></table></div></td></tr></table></td></tr></table></div>"
     },
     "execution_count": 6,
     "metadata": {},
     "output_type": "execute_result"
    }
   ],
   "source": [
    "from tfx.extensions.google_cloud_ai_platform.pusher.executor import ENABLE_VERTEX_KEY, VERTEX_REGION_KEY, VERTEX_CONTAINER_IMAGE_URI_KEY\n",
    "from tfx.extensions.google_cloud_ai_platform.pusher import executor as ai_platform_pusher_executor\n",
    "from tfx.dsl.components.base import executor_spec\n",
    "from tfx.proto import pusher_pb2\n",
    "\n",
    "pusher = tfx.components.Pusher(\n",
    "        model=model.outputs['result'],\n",
    "        custom_executor_spec=executor_spec.ExecutorClassSpec(ai_platform_pusher_executor.Executor),\n",
    "        custom_config={\n",
    "            ENABLE_VERTEX_KEY: True,\n",
    "            VERTEX_REGION_KEY: 'us-central1',\n",
    "            VERTEX_CONTAINER_IMAGE_URI_KEY: 'us-docker.pkg.dev/vertex-ai/prediction/tf2-cpu.2-5:latest',\n",
    "            ai_platform_pusher_executor.SERVING_ARGS_KEY: {\n",
    "                'model_name': 'try_pusher',  # '-' is not allowed.\n",
    "                'project_id': GOOGLE_CLOUD_PROJECT,\n",
    "                'regions': ['us-central1'],\n",
    "                'endpoint_name': 'my_model_endpoint',\n",
    "                'min_replica_count': 1,\n",
    "                'max_replica_count': 2,\n",
    "                'machine_type': 'n1-standard-2'\n",
    "            },\n",
    "        },\n",
    "        # push_destination=pusher_pb2.PushDestination(\n",
    "        #     filesystem=pusher_pb2.PushDestination.Filesystem(\n",
    "        #         base_directory=\"gs://chicago-taxi-ml-demo-1/tfx_pipeline_output/tfx-pipeline-ml/Pusher/model/1020\"\n",
    "        #     )\n",
    "        # )\n",
    ").with_id('Pusher')\n",
    "context.run(pusher)"
   ],
   "metadata": {
    "collapsed": false,
    "pycharm": {
     "name": "#%%\n"
    }
   }
  },
  {
   "cell_type": "code",
   "execution_count": 6,
   "outputs": [
    {
     "name": "stdout",
     "output_type": "stream",
     "text": [
      "running bdist_wheel\n",
      "running build\n",
      "running build_py\n",
      "creating build\n",
      "creating build/lib\n",
      "copying model.py -> build/lib\n",
      "installing to /var/folders/2f/96xj0q5139vghz17xfkfghpw0000gn/T/tmp96dpjfb8\n",
      "running install\n",
      "running install_lib\n",
      "copying build/lib/model.py -> /var/folders/2f/96xj0q5139vghz17xfkfghpw0000gn/T/tmp96dpjfb8\n",
      "running install_egg_info\n",
      "running egg_info\n",
      "creating tfx_user_code_HyperparametersTuner.egg-info\n",
      "writing tfx_user_code_HyperparametersTuner.egg-info/PKG-INFO\n",
      "writing dependency_links to tfx_user_code_HyperparametersTuner.egg-info/dependency_links.txt\n",
      "writing top-level names to tfx_user_code_HyperparametersTuner.egg-info/top_level.txt\n",
      "writing manifest file 'tfx_user_code_HyperparametersTuner.egg-info/SOURCES.txt'\n",
      "reading manifest file 'tfx_user_code_HyperparametersTuner.egg-info/SOURCES.txt'\n",
      "writing manifest file 'tfx_user_code_HyperparametersTuner.egg-info/SOURCES.txt'\n",
      "Copying tfx_user_code_HyperparametersTuner.egg-info to /var/folders/2f/96xj0q5139vghz17xfkfghpw0000gn/T/tmp96dpjfb8/tfx_user_code_HyperparametersTuner-0.0+4643a1706f26894c3429b6b113b6f25e3765a1c42d70ebba0215280856e22f15-py3.8.egg-info\n",
      "running install_scripts\n",
      "creating /var/folders/2f/96xj0q5139vghz17xfkfghpw0000gn/T/tmp96dpjfb8/tfx_user_code_HyperparametersTuner-0.0+4643a1706f26894c3429b6b113b6f25e3765a1c42d70ebba0215280856e22f15.dist-info/WHEEL\n",
      "creating '/var/folders/2f/96xj0q5139vghz17xfkfghpw0000gn/T/tmp055gtkyd/tfx_user_code_HyperparametersTuner-0.0+4643a1706f26894c3429b6b113b6f25e3765a1c42d70ebba0215280856e22f15-py3-none-any.whl' and adding '/var/folders/2f/96xj0q5139vghz17xfkfghpw0000gn/T/tmp96dpjfb8' to it\n",
      "adding 'model.py'\n",
      "adding 'tfx_user_code_HyperparametersTuner-0.0+4643a1706f26894c3429b6b113b6f25e3765a1c42d70ebba0215280856e22f15.dist-info/METADATA'\n",
      "adding 'tfx_user_code_HyperparametersTuner-0.0+4643a1706f26894c3429b6b113b6f25e3765a1c42d70ebba0215280856e22f15.dist-info/WHEEL'\n",
      "adding 'tfx_user_code_HyperparametersTuner-0.0+4643a1706f26894c3429b6b113b6f25e3765a1c42d70ebba0215280856e22f15.dist-info/top_level.txt'\n",
      "adding 'tfx_user_code_HyperparametersTuner-0.0+4643a1706f26894c3429b6b113b6f25e3765a1c42d70ebba0215280856e22f15.dist-info/RECORD'\n",
      "removing /var/folders/2f/96xj0q5139vghz17xfkfghpw0000gn/T/tmp96dpjfb8\n"
     ]
    },
    {
     "name": "stderr",
     "output_type": "stream",
     "text": [
      "WARNING:absl:workerCount is overridden with 2\n",
      "WARNING:googleapiclient.discovery_cache:file_cache is unavailable when using oauth2client >= 4.0.0 or google-auth\n",
      "Traceback (most recent call last):\n",
      "  File \"/Users/oleg/Projects/EPAM/taxi/ml-specialization-demo1/venv/lib/python3.8/site-packages/googleapiclient/discovery_cache/file_cache.py\", line 33, in <module>\n",
      "    from oauth2client.contrib.locked_file import LockedFile\n",
      "ModuleNotFoundError: No module named 'oauth2client.contrib.locked_file'\n",
      "\n",
      "During handling of the above exception, another exception occurred:\n",
      "\n",
      "Traceback (most recent call last):\n",
      "  File \"/Users/oleg/Projects/EPAM/taxi/ml-specialization-demo1/venv/lib/python3.8/site-packages/googleapiclient/discovery_cache/file_cache.py\", line 37, in <module>\n",
      "    from oauth2client.locked_file import LockedFile\n",
      "ModuleNotFoundError: No module named 'oauth2client.locked_file'\n",
      "\n",
      "During handling of the above exception, another exception occurred:\n",
      "\n",
      "Traceback (most recent call last):\n",
      "  File \"/Users/oleg/Projects/EPAM/taxi/ml-specialization-demo1/venv/lib/python3.8/site-packages/googleapiclient/discovery_cache/__init__.py\", line 44, in autodetect\n",
      "    from . import file_cache\n",
      "  File \"/Users/oleg/Projects/EPAM/taxi/ml-specialization-demo1/venv/lib/python3.8/site-packages/googleapiclient/discovery_cache/file_cache.py\", line 40, in <module>\n",
      "    raise ImportError(\n",
      "ImportError: file_cache is unavailable when using oauth2client >= 4.0.0 or google-auth\n",
      "WARNING:absl:Length of label `tfx-extensions-google_cloud_ai_platform-tuner-executor-_workerexecutor` exceeds maximum length(63), trimmed.\n",
      "WARNING:googleapiclient.discovery_cache:file_cache is unavailable when using oauth2client >= 4.0.0 or google-auth\n",
      "Traceback (most recent call last):\n",
      "  File \"/Users/oleg/Projects/EPAM/taxi/ml-specialization-demo1/venv/lib/python3.8/site-packages/googleapiclient/discovery_cache/file_cache.py\", line 33, in <module>\n",
      "    from oauth2client.contrib.locked_file import LockedFile\n",
      "ModuleNotFoundError: No module named 'oauth2client.contrib.locked_file'\n",
      "\n",
      "During handling of the above exception, another exception occurred:\n",
      "\n",
      "Traceback (most recent call last):\n",
      "  File \"/Users/oleg/Projects/EPAM/taxi/ml-specialization-demo1/venv/lib/python3.8/site-packages/googleapiclient/discovery_cache/file_cache.py\", line 37, in <module>\n",
      "    from oauth2client.locked_file import LockedFile\n",
      "ModuleNotFoundError: No module named 'oauth2client.locked_file'\n",
      "\n",
      "During handling of the above exception, another exception occurred:\n",
      "\n",
      "Traceback (most recent call last):\n",
      "  File \"/Users/oleg/Projects/EPAM/taxi/ml-specialization-demo1/venv/lib/python3.8/site-packages/googleapiclient/discovery_cache/__init__.py\", line 44, in autodetect\n",
      "    from . import file_cache\n",
      "  File \"/Users/oleg/Projects/EPAM/taxi/ml-specialization-demo1/venv/lib/python3.8/site-packages/googleapiclient/discovery_cache/file_cache.py\", line 40, in <module>\n",
      "    raise ImportError(\n",
      "ImportError: file_cache is unavailable when using oauth2client >= 4.0.0 or google-auth\n",
      "ERROR:absl:Job 'projects/o-epm-gcp-by-meetup1-ml-t1iylu/jobs/tfx_tuner_20210906213647' did not succeed.  Detailed response {'jobId': 'tfx_tuner_20210906213647', 'trainingInput': {'scaleTier': 'CUSTOM', 'masterType': 'standard', 'workerType': 'standard', 'workerCount': '2', 'region': 'us-central1', 'masterConfig': {'imageUri': 'gcr.io/o-epm-gcp-by-meetup1-ml-t1iylu/tfx-pipeline-ml', 'containerCommand': ['python', '-m', 'tfx.scripts.run_executor', '--executor_class_path', 'tfx.extensions.google_cloud_ai_platform.tuner.executor._WorkerExecutor', '--inputs', '{\"examples\": [{\"artifact\": {\"id\": \"116\", \"type_id\": \"19\", \"uri\": \"gs://chicago-taxi-ml-demo-1/tfx_pipeline_output/tfx-pipeline-ml/CsvExampleGen/examples/102\", \"properties\": {\"split_names\": {\"string_value\": \"[\\\\\"train\\\\\", \\\\\"eval\\\\\"]\"}}, \"custom_properties\": {\"payload_format\": {\"string_value\": \"FORMAT_TF_EXAMPLE\"}, \"state\": {\"string_value\": \"published\"}, \"span\": {\"int_value\": \"0\"}, \"file_format\": {\"string_value\": \"tfrecords_gzip\"}, \"tfx_version\": {\"string_value\": \"1.2.0\"}, \"input_fingerprint\": {\"string_value\": \"split:single_split,num_files:1,total_bytes:18849464,xor_checksum:1630060869,sum_checksum:1630060869\"}}, \"state\": \"LIVE\", \"create_time_since_epoch\": \"1630943541729\", \"last_update_time_since_epoch\": \"1630943608335\"}, \"artifact_type\": {\"id\": \"19\", \"name\": \"Examples\", \"properties\": {\"span\": \"INT\", \"version\": \"INT\", \"split_names\": \"STRING\"}}, \"__artifact_class_module__\": \"tfx.types.standard_artifacts\", \"__artifact_class_name__\": \"Examples\"}], \"base_model\": [{\"artifact\": {\"id\": \"119\", \"type_id\": \"16\", \"uri\": \"gs://chicago-taxi-ml-demo-1/tfx_pipeline_output/tfx-pipeline-ml/Trainer/model/1020\", \"custom_properties\": {\"tfx_version\": {\"string_value\": \"1.2.0\"}}}, \"artifact_type\": {\"id\": \"16\", \"name\": \"Model\"}, \"__artifact_class_module__\": \"tfx.types.standard_artifacts\", \"__artifact_class_name__\": \"Model\"}]}', '--outputs', '{\"best_hyperparameters\": [{\"artifact\": {\"id\": \"120\", \"type_id\": \"34\", \"uri\": \"gs://chicago-taxi-ml-demo-1/tfx_pipeline_output/tfx-pipeline-ml/HyperparametersTuner/best_hyperparameters/108\", \"custom_properties\": {\"name\": {\"string_value\": \"best_hyperparameters\"}, \"producer_component\": {\"string_value\": \"HyperparametersTuner\"}}}, \"artifact_type\": {\"id\": \"34\", \"name\": \"HyperParameters\"}, \"__artifact_class_module__\": \"tfx.types.standard_artifacts\", \"__artifact_class_name__\": \"HyperParameters\"}]}', '--exec-properties', '{\"custom_config\": \"{\\\\\"ai_platform_tuning_args\\\\\": {\\\\\"masterConfig\\\\\": {\\\\\"imageUri\\\\\": \\\\\"gcr.io/o-epm-gcp-by-meetup1-ml-t1iylu/tfx-pipeline-ml\\\\\"}, \\\\\"project\\\\\": \\\\\"o-epm-gcp-by-meetup1-ml-t1iylu\\\\\", \\\\\"region\\\\\": \\\\\"us-central1\\\\\"}}\", \"eval_args\": \"{\\\\n  \\\\\"num_steps\\\\\": 10\\\\n}\", \"module_file\": null, \"module_path\": \"model@gs://chicago-taxi-ml-demo-1/tfx_pipeline_output/tfx-pipeline-ml/_wheels/tfx_user_code_HyperparametersTuner-0.0+4643a1706f26894c3429b6b113b6f25e3765a1c42d70ebba0215280856e22f15-py3-none-any.whl\", \"train_args\": \"{\\\\n  \\\\\"num_steps\\\\\": 10\\\\n}\", \"tune_args\": \"{\\\\n  \\\\\"num_parallel_trials\\\\\": 3\\\\n}\", \"tuner_fn\": null}']}}, 'createTime': '2021-09-06T17:36:52Z', 'startTime': '2021-09-06T17:49:51Z', 'endTime': '2021-09-06T17:49:53Z', 'state': 'FAILED', 'errorMessage': 'The replica master 0 exited with a non-zero status of 1. Termination reason: Error. The replica worker 0 exited with a non-zero status of 1. Termination reason: Error. To find out more about why your job exited please check the logs: https://console.cloud.google.com/logs/viewer?project=1012336990068&resource=ml_job%2Fjob_id%2Ftfx_tuner_20210906213647&advancedFilter=resource.type%3D%22ml_job%22%0Aresource.labels.job_id%3D%22tfx_tuner_20210906213647%22', 'trainingOutput': {}, 'labels': {'tfx_executor': 'tfx-extensions-google_cloud_ai_platform-tuner-executor-_workere', 'tfx_py_version': '3-8', 'tfx_runner': 'interactivecontext', 'tfx_version': '1-2-0'}, 'etag': 'a4e+W1GxXaw='}.\n"
     ]
    },
    {
     "ename": "RuntimeError",
     "evalue": "Job 'projects/o-epm-gcp-by-meetup1-ml-t1iylu/jobs/tfx_tuner_20210906213647' did not succeed.  Detailed response {'jobId': 'tfx_tuner_20210906213647', 'trainingInput': {'scaleTier': 'CUSTOM', 'masterType': 'standard', 'workerType': 'standard', 'workerCount': '2', 'region': 'us-central1', 'masterConfig': {'imageUri': 'gcr.io/o-epm-gcp-by-meetup1-ml-t1iylu/tfx-pipeline-ml', 'containerCommand': ['python', '-m', 'tfx.scripts.run_executor', '--executor_class_path', 'tfx.extensions.google_cloud_ai_platform.tuner.executor._WorkerExecutor', '--inputs', '{\"examples\": [{\"artifact\": {\"id\": \"116\", \"type_id\": \"19\", \"uri\": \"gs://chicago-taxi-ml-demo-1/tfx_pipeline_output/tfx-pipeline-ml/CsvExampleGen/examples/102\", \"properties\": {\"split_names\": {\"string_value\": \"[\\\\\"train\\\\\", \\\\\"eval\\\\\"]\"}}, \"custom_properties\": {\"payload_format\": {\"string_value\": \"FORMAT_TF_EXAMPLE\"}, \"state\": {\"string_value\": \"published\"}, \"span\": {\"int_value\": \"0\"}, \"file_format\": {\"string_value\": \"tfrecords_gzip\"}, \"tfx_version\": {\"string_value\": \"1.2.0\"}, \"input_fingerprint\": {\"string_value\": \"split:single_split,num_files:1,total_bytes:18849464,xor_checksum:1630060869,sum_checksum:1630060869\"}}, \"state\": \"LIVE\", \"create_time_since_epoch\": \"1630943541729\", \"last_update_time_since_epoch\": \"1630943608335\"}, \"artifact_type\": {\"id\": \"19\", \"name\": \"Examples\", \"properties\": {\"span\": \"INT\", \"version\": \"INT\", \"split_names\": \"STRING\"}}, \"__artifact_class_module__\": \"tfx.types.standard_artifacts\", \"__artifact_class_name__\": \"Examples\"}], \"base_model\": [{\"artifact\": {\"id\": \"119\", \"type_id\": \"16\", \"uri\": \"gs://chicago-taxi-ml-demo-1/tfx_pipeline_output/tfx-pipeline-ml/Trainer/model/1020\", \"custom_properties\": {\"tfx_version\": {\"string_value\": \"1.2.0\"}}}, \"artifact_type\": {\"id\": \"16\", \"name\": \"Model\"}, \"__artifact_class_module__\": \"tfx.types.standard_artifacts\", \"__artifact_class_name__\": \"Model\"}]}', '--outputs', '{\"best_hyperparameters\": [{\"artifact\": {\"id\": \"120\", \"type_id\": \"34\", \"uri\": \"gs://chicago-taxi-ml-demo-1/tfx_pipeline_output/tfx-pipeline-ml/HyperparametersTuner/best_hyperparameters/108\", \"custom_properties\": {\"name\": {\"string_value\": \"best_hyperparameters\"}, \"producer_component\": {\"string_value\": \"HyperparametersTuner\"}}}, \"artifact_type\": {\"id\": \"34\", \"name\": \"HyperParameters\"}, \"__artifact_class_module__\": \"tfx.types.standard_artifacts\", \"__artifact_class_name__\": \"HyperParameters\"}]}', '--exec-properties', '{\"custom_config\": \"{\\\\\"ai_platform_tuning_args\\\\\": {\\\\\"masterConfig\\\\\": {\\\\\"imageUri\\\\\": \\\\\"gcr.io/o-epm-gcp-by-meetup1-ml-t1iylu/tfx-pipeline-ml\\\\\"}, \\\\\"project\\\\\": \\\\\"o-epm-gcp-by-meetup1-ml-t1iylu\\\\\", \\\\\"region\\\\\": \\\\\"us-central1\\\\\"}}\", \"eval_args\": \"{\\\\n  \\\\\"num_steps\\\\\": 10\\\\n}\", \"module_file\": null, \"module_path\": \"model@gs://chicago-taxi-ml-demo-1/tfx_pipeline_output/tfx-pipeline-ml/_wheels/tfx_user_code_HyperparametersTuner-0.0+4643a1706f26894c3429b6b113b6f25e3765a1c42d70ebba0215280856e22f15-py3-none-any.whl\", \"train_args\": \"{\\\\n  \\\\\"num_steps\\\\\": 10\\\\n}\", \"tune_args\": \"{\\\\n  \\\\\"num_parallel_trials\\\\\": 3\\\\n}\", \"tuner_fn\": null}']}}, 'createTime': '2021-09-06T17:36:52Z', 'startTime': '2021-09-06T17:49:51Z', 'endTime': '2021-09-06T17:49:53Z', 'state': 'FAILED', 'errorMessage': 'The replica master 0 exited with a non-zero status of 1. Termination reason: Error. The replica worker 0 exited with a non-zero status of 1. Termination reason: Error. To find out more about why your job exited please check the logs: https://console.cloud.google.com/logs/viewer?project=1012336990068&resource=ml_job%2Fjob_id%2Ftfx_tuner_20210906213647&advancedFilter=resource.type%3D%22ml_job%22%0Aresource.labels.job_id%3D%22tfx_tuner_20210906213647%22', 'trainingOutput': {}, 'labels': {'tfx_executor': 'tfx-extensions-google_cloud_ai_platform-tuner-executor-_workere', 'tfx_py_version': '3-8', 'tfx_runner': 'interactivecontext', 'tfx_version': '1-2-0'}, 'etag': 'a4e+W1GxXaw='}.",
     "output_type": "error",
     "traceback": [
      "\u001B[0;31m---------------------------------------------------------------------------\u001B[0m",
      "\u001B[0;31mRuntimeError\u001B[0m                              Traceback (most recent call last)",
      "\u001B[0;32m/var/folders/2f/96xj0q5139vghz17xfkfghpw0000gn/T/ipykernel_12406/3494169698.py\u001B[0m in \u001B[0;36m<module>\u001B[0;34m\u001B[0m\n\u001B[1;32m      7\u001B[0m \u001B[0;34m\u001B[0m\u001B[0m\n\u001B[1;32m      8\u001B[0m \u001B[0m_tuner\u001B[0m \u001B[0;34m=\u001B[0m \u001B[0mtuner\u001B[0m\u001B[0;34m(\u001B[0m\u001B[0mexamples\u001B[0m\u001B[0;34m=\u001B[0m\u001B[0mexampes\u001B[0m\u001B[0;34m,\u001B[0m \u001B[0mbase_model\u001B[0m\u001B[0;34m=\u001B[0m\u001B[0mmodel\u001B[0m\u001B[0;34m)\u001B[0m\u001B[0;34m\u001B[0m\u001B[0;34m\u001B[0m\u001B[0m\n\u001B[0;32m----> 9\u001B[0;31m \u001B[0mcontext\u001B[0m\u001B[0;34m.\u001B[0m\u001B[0mrun\u001B[0m\u001B[0;34m(\u001B[0m\u001B[0m_tuner\u001B[0m\u001B[0;34m)\u001B[0m\u001B[0;34m\u001B[0m\u001B[0;34m\u001B[0m\u001B[0m\n\u001B[0m\u001B[1;32m     10\u001B[0m \u001B[0m_tuner\u001B[0m\u001B[0;34m.\u001B[0m\u001B[0moutputs\u001B[0m\u001B[0;34m\u001B[0m\u001B[0;34m\u001B[0m\u001B[0m\n\u001B[1;32m     11\u001B[0m \u001B[0;34m\u001B[0m\u001B[0m\n",
      "\u001B[0;32m~/Projects/EPAM/taxi/ml-specialization-demo1/venv/lib/python3.8/site-packages/tfx/orchestration/experimental/interactive/interactive_context.py\u001B[0m in \u001B[0;36mrun_if_ipython\u001B[0;34m(*args, **kwargs)\u001B[0m\n\u001B[1;32m     66\u001B[0m       \u001B[0;31m# __IPYTHON__ variable is set by IPython, see\u001B[0m\u001B[0;34m\u001B[0m\u001B[0;34m\u001B[0m\u001B[0;34m\u001B[0m\u001B[0m\n\u001B[1;32m     67\u001B[0m       \u001B[0;31m# https://ipython.org/ipython-doc/rel-0.10.2/html/interactive/reference.html#embedding-ipython.\u001B[0m\u001B[0;34m\u001B[0m\u001B[0;34m\u001B[0m\u001B[0;34m\u001B[0m\u001B[0m\n\u001B[0;32m---> 68\u001B[0;31m       \u001B[0;32mreturn\u001B[0m \u001B[0mfn\u001B[0m\u001B[0;34m(\u001B[0m\u001B[0;34m*\u001B[0m\u001B[0margs\u001B[0m\u001B[0;34m,\u001B[0m \u001B[0;34m**\u001B[0m\u001B[0mkwargs\u001B[0m\u001B[0;34m)\u001B[0m\u001B[0;34m\u001B[0m\u001B[0;34m\u001B[0m\u001B[0m\n\u001B[0m\u001B[1;32m     69\u001B[0m     \u001B[0;32melse\u001B[0m\u001B[0;34m:\u001B[0m\u001B[0;34m\u001B[0m\u001B[0;34m\u001B[0m\u001B[0m\n\u001B[1;32m     70\u001B[0m       absl.logging.warning(\n",
      "\u001B[0;32m~/Projects/EPAM/taxi/ml-specialization-demo1/venv/lib/python3.8/site-packages/tfx/orchestration/experimental/interactive/interactive_context.py\u001B[0m in \u001B[0;36mrun\u001B[0;34m(self, component, enable_cache, beam_pipeline_args)\u001B[0m\n\u001B[1;32m    186\u001B[0m         \u001B[0mtelemetry_utils\u001B[0m\u001B[0;34m.\u001B[0m\u001B[0mLABEL_TFX_RUNNER\u001B[0m\u001B[0;34m:\u001B[0m \u001B[0mrunner_label\u001B[0m\u001B[0;34m,\u001B[0m\u001B[0;34m\u001B[0m\u001B[0;34m\u001B[0m\u001B[0m\n\u001B[1;32m    187\u001B[0m     }):\n\u001B[0;32m--> 188\u001B[0;31m       \u001B[0mexecution_id\u001B[0m \u001B[0;34m=\u001B[0m \u001B[0mlauncher\u001B[0m\u001B[0;34m.\u001B[0m\u001B[0mlaunch\u001B[0m\u001B[0;34m(\u001B[0m\u001B[0;34m)\u001B[0m\u001B[0;34m.\u001B[0m\u001B[0mexecution_id\u001B[0m\u001B[0;34m\u001B[0m\u001B[0;34m\u001B[0m\u001B[0m\n\u001B[0m\u001B[1;32m    189\u001B[0m \u001B[0;34m\u001B[0m\u001B[0m\n\u001B[1;32m    190\u001B[0m     return execution_result.ExecutionResult(\n",
      "\u001B[0;32m~/Projects/EPAM/taxi/ml-specialization-demo1/venv/lib/python3.8/site-packages/tfx/orchestration/launcher/base_component_launcher.py\u001B[0m in \u001B[0;36mlaunch\u001B[0;34m(self)\u001B[0m\n\u001B[1;32m    203\u001B[0m       \u001B[0;31m# be immutable in this context.\u001B[0m\u001B[0;34m\u001B[0m\u001B[0;34m\u001B[0m\u001B[0;34m\u001B[0m\u001B[0m\n\u001B[1;32m    204\u001B[0m       \u001B[0;31m# output_dict can still be changed, specifically properties.\u001B[0m\u001B[0;34m\u001B[0m\u001B[0;34m\u001B[0m\u001B[0;34m\u001B[0m\u001B[0m\n\u001B[0;32m--> 205\u001B[0;31m       self._run_executor(execution_decision.execution_id,\n\u001B[0m\u001B[1;32m    206\u001B[0m                          \u001B[0mcopy\u001B[0m\u001B[0;34m.\u001B[0m\u001B[0mdeepcopy\u001B[0m\u001B[0;34m(\u001B[0m\u001B[0mexecution_decision\u001B[0m\u001B[0;34m.\u001B[0m\u001B[0minput_dict\u001B[0m\u001B[0;34m)\u001B[0m\u001B[0;34m,\u001B[0m\u001B[0;34m\u001B[0m\u001B[0;34m\u001B[0m\u001B[0m\n\u001B[1;32m    207\u001B[0m                          \u001B[0mexecution_decision\u001B[0m\u001B[0;34m.\u001B[0m\u001B[0moutput_dict\u001B[0m\u001B[0;34m,\u001B[0m\u001B[0;34m\u001B[0m\u001B[0;34m\u001B[0m\u001B[0m\n",
      "\u001B[0;32m~/Projects/EPAM/taxi/ml-specialization-demo1/venv/lib/python3.8/site-packages/tfx/orchestration/launcher/in_process_component_launcher.py\u001B[0m in \u001B[0;36m_run_executor\u001B[0;34m(self, execution_id, input_dict, output_dict, exec_properties)\u001B[0m\n\u001B[1;32m     76\u001B[0m     \u001B[0;31m# be immutable in this context.\u001B[0m\u001B[0;34m\u001B[0m\u001B[0;34m\u001B[0m\u001B[0;34m\u001B[0m\u001B[0m\n\u001B[1;32m     77\u001B[0m     \u001B[0;31m# output_dict can still be changed, specifically properties.\u001B[0m\u001B[0;34m\u001B[0m\u001B[0;34m\u001B[0m\u001B[0;34m\u001B[0m\u001B[0m\n\u001B[0;32m---> 78\u001B[0;31m     executor.Do(\n\u001B[0m\u001B[1;32m     79\u001B[0m         copy.deepcopy(input_dict), output_dict, copy.deepcopy(exec_properties))\n",
      "\u001B[0;32m~/Projects/EPAM/taxi/ml-specialization-demo1/venv/lib/python3.8/site-packages/tfx/extensions/google_cloud_ai_platform/tuner/executor.py\u001B[0m in \u001B[0;36mDo\u001B[0;34m(self, input_dict, output_dict, exec_properties)\u001B[0m\n\u001B[1;32m    128\u001B[0m \u001B[0;34m\u001B[0m\u001B[0m\n\u001B[1;32m    129\u001B[0m     \u001B[0;31m# Note: exec_properties['custom_config'] here is a dict.\u001B[0m\u001B[0;34m\u001B[0m\u001B[0;34m\u001B[0m\u001B[0;34m\u001B[0m\u001B[0m\n\u001B[0;32m--> 130\u001B[0;31m     return runner.start_aip_training(input_dict, output_dict, exec_properties,\n\u001B[0m\u001B[1;32m    131\u001B[0m                                      \u001B[0mexecutor_class_path\u001B[0m\u001B[0;34m,\u001B[0m \u001B[0mtraining_inputs\u001B[0m\u001B[0;34m,\u001B[0m\u001B[0;34m\u001B[0m\u001B[0;34m\u001B[0m\u001B[0m\n\u001B[1;32m    132\u001B[0m                                      job_id)\n",
      "\u001B[0;32m~/Projects/EPAM/taxi/ml-specialization-demo1/venv/lib/python3.8/site-packages/tfx/extensions/google_cloud_ai_platform/runner.py\u001B[0m in \u001B[0;36mstart_aip_training\u001B[0;34m(input_dict, output_dict, exec_properties, executor_class_path, training_inputs, job_id, enable_vertex, vertex_region)\u001B[0m\n\u001B[1;32m    196\u001B[0m                                               training_inputs, job_id)\n\u001B[1;32m    197\u001B[0m \u001B[0;34m\u001B[0m\u001B[0m\n\u001B[0;32m--> 198\u001B[0;31m   _launch_aip_training(\n\u001B[0m\u001B[1;32m    199\u001B[0m       \u001B[0mjob_id\u001B[0m\u001B[0;34m=\u001B[0m\u001B[0mtraining_args\u001B[0m\u001B[0;34m[\u001B[0m\u001B[0;34m'job_id'\u001B[0m\u001B[0;34m]\u001B[0m\u001B[0;34m,\u001B[0m\u001B[0;34m\u001B[0m\u001B[0;34m\u001B[0m\u001B[0m\n\u001B[1;32m    200\u001B[0m       \u001B[0mproject\u001B[0m\u001B[0;34m=\u001B[0m\u001B[0mtraining_args\u001B[0m\u001B[0;34m[\u001B[0m\u001B[0;34m'project'\u001B[0m\u001B[0;34m]\u001B[0m\u001B[0;34m,\u001B[0m\u001B[0;34m\u001B[0m\u001B[0;34m\u001B[0m\u001B[0m\n",
      "\u001B[0;32m~/Projects/EPAM/taxi/ml-specialization-demo1/venv/lib/python3.8/site-packages/tfx/extensions/google_cloud_ai_platform/runner.py\u001B[0m in \u001B[0;36m_launch_aip_training\u001B[0;34m(job_id, project, training_input, job_labels, enable_vertex, vertex_region)\u001B[0m\n\u001B[1;32m    125\u001B[0m         client.get_job_name(), response)\n\u001B[1;32m    126\u001B[0m     \u001B[0mlogging\u001B[0m\u001B[0;34m.\u001B[0m\u001B[0merror\u001B[0m\u001B[0;34m(\u001B[0m\u001B[0merr_msg\u001B[0m\u001B[0;34m)\u001B[0m\u001B[0;34m\u001B[0m\u001B[0;34m\u001B[0m\u001B[0m\n\u001B[0;32m--> 127\u001B[0;31m     \u001B[0;32mraise\u001B[0m \u001B[0mRuntimeError\u001B[0m\u001B[0;34m(\u001B[0m\u001B[0merr_msg\u001B[0m\u001B[0;34m)\u001B[0m\u001B[0;34m\u001B[0m\u001B[0;34m\u001B[0m\u001B[0m\n\u001B[0m\u001B[1;32m    128\u001B[0m \u001B[0;34m\u001B[0m\u001B[0m\n\u001B[1;32m    129\u001B[0m   \u001B[0;31m# AIP training complete\u001B[0m\u001B[0;34m\u001B[0m\u001B[0;34m\u001B[0m\u001B[0;34m\u001B[0m\u001B[0m\n",
      "\u001B[0;31mRuntimeError\u001B[0m: Job 'projects/o-epm-gcp-by-meetup1-ml-t1iylu/jobs/tfx_tuner_20210906213647' did not succeed.  Detailed response {'jobId': 'tfx_tuner_20210906213647', 'trainingInput': {'scaleTier': 'CUSTOM', 'masterType': 'standard', 'workerType': 'standard', 'workerCount': '2', 'region': 'us-central1', 'masterConfig': {'imageUri': 'gcr.io/o-epm-gcp-by-meetup1-ml-t1iylu/tfx-pipeline-ml', 'containerCommand': ['python', '-m', 'tfx.scripts.run_executor', '--executor_class_path', 'tfx.extensions.google_cloud_ai_platform.tuner.executor._WorkerExecutor', '--inputs', '{\"examples\": [{\"artifact\": {\"id\": \"116\", \"type_id\": \"19\", \"uri\": \"gs://chicago-taxi-ml-demo-1/tfx_pipeline_output/tfx-pipeline-ml/CsvExampleGen/examples/102\", \"properties\": {\"split_names\": {\"string_value\": \"[\\\\\"train\\\\\", \\\\\"eval\\\\\"]\"}}, \"custom_properties\": {\"payload_format\": {\"string_value\": \"FORMAT_TF_EXAMPLE\"}, \"state\": {\"string_value\": \"published\"}, \"span\": {\"int_value\": \"0\"}, \"file_format\": {\"string_value\": \"tfrecords_gzip\"}, \"tfx_version\": {\"string_value\": \"1.2.0\"}, \"input_fingerprint\": {\"string_value\": \"split:single_split,num_files:1,total_bytes:18849464,xor_checksum:1630060869,sum_checksum:1630060869\"}}, \"state\": \"LIVE\", \"create_time_since_epoch\": \"1630943541729\", \"last_update_time_since_epoch\": \"1630943608335\"}, \"artifact_type\": {\"id\": \"19\", \"name\": \"Examples\", \"properties\": {\"span\": \"INT\", \"version\": \"INT\", \"split_names\": \"STRING\"}}, \"__artifact_class_module__\": \"tfx.types.standard_artifacts\", \"__artifact_class_name__\": \"Examples\"}], \"base_model\": [{\"artifact\": {\"id\": \"119\", \"type_id\": \"16\", \"uri\": \"gs://chicago-taxi-ml-demo-1/tfx_pipeline_output/tfx-pipeline-ml/Trainer/model/1020\", \"custom_properties\": {\"tfx_version\": {\"string_value\": \"1.2.0\"}}}, \"artifact_type\": {\"id\": \"16\", \"name\": \"Model\"}, \"__artifact_class_module__\": \"tfx.types.standard_artifacts\", \"__artifact_class_name__\": \"Model\"}]}', '--outputs', '{\"best_hyperparameters\": [{\"artifact\": {\"id\": \"120\", \"type_id\": \"34\", \"uri\": \"gs://chicago-taxi-ml-demo-1/tfx_pipeline_output/tfx-pipeline-ml/HyperparametersTuner/best_hyperparameters/108\", \"custom_properties\": {\"name\": {\"string_value\": \"best_hyperparameters\"}, \"producer_component\": {\"string_value\": \"HyperparametersTuner\"}}}, \"artifact_type\": {\"id\": \"34\", \"name\": \"HyperParameters\"}, \"__artifact_class_module__\": \"tfx.types.standard_artifacts\", \"__artifact_class_name__\": \"HyperParameters\"}]}', '--exec-properties', '{\"custom_config\": \"{\\\\\"ai_platform_tuning_args\\\\\": {\\\\\"masterConfig\\\\\": {\\\\\"imageUri\\\\\": \\\\\"gcr.io/o-epm-gcp-by-meetup1-ml-t1iylu/tfx-pipeline-ml\\\\\"}, \\\\\"project\\\\\": \\\\\"o-epm-gcp-by-meetup1-ml-t1iylu\\\\\", \\\\\"region\\\\\": \\\\\"us-central1\\\\\"}}\", \"eval_args\": \"{\\\\n  \\\\\"num_steps\\\\\": 10\\\\n}\", \"module_file\": null, \"module_path\": \"model@gs://chicago-taxi-ml-demo-1/tfx_pipeline_output/tfx-pipeline-ml/_wheels/tfx_user_code_HyperparametersTuner-0.0+4643a1706f26894c3429b6b113b6f25e3765a1c42d70ebba0215280856e22f15-py3-none-any.whl\", \"train_args\": \"{\\\\n  \\\\\"num_steps\\\\\": 10\\\\n}\", \"tune_args\": \"{\\\\n  \\\\\"num_parallel_trials\\\\\": 3\\\\n}\", \"tuner_fn\": null}']}}, 'createTime': '2021-09-06T17:36:52Z', 'startTime': '2021-09-06T17:49:51Z', 'endTime': '2021-09-06T17:49:53Z', 'state': 'FAILED', 'errorMessage': 'The replica master 0 exited with a non-zero status of 1. Termination reason: Error. The replica worker 0 exited with a non-zero status of 1. Termination reason: Error. To find out more about why your job exited please check the logs: https://console.cloud.google.com/logs/viewer?project=1012336990068&resource=ml_job%2Fjob_id%2Ftfx_tuner_20210906213647&advancedFilter=resource.type%3D%22ml_job%22%0Aresource.labels.job_id%3D%22tfx_tuner_20210906213647%22', 'trainingOutput': {}, 'labels': {'tfx_executor': 'tfx-extensions-google_cloud_ai_platform-tuner-executor-_workere', 'tfx_py_version': '3-8', 'tfx_runner': 'interactivecontext', 'tfx_version': '1-2-0'}, 'etag': 'a4e+W1GxXaw='}."
     ]
    }
   ],
   "source": [
    "from pipeline.components import example_gen, tuner\n",
    "\n",
    "\n",
    "_example_gen = example_gen()\n",
    "context.run(_example_gen)\n",
    "exampes = _example_gen.outputs['examples']\n",
    "\n",
    "_tuner = tuner(examples=exampes, base_model=model)\n",
    "context.run(_tuner)\n",
    "_tuner.outputs\n"
   ],
   "metadata": {
    "collapsed": false,
    "pycharm": {
     "name": "#%%\n"
    }
   }
  },
  {
   "cell_type": "code",
   "execution_count": null,
   "outputs": [],
   "source": [],
   "metadata": {
    "collapsed": false,
    "pycharm": {
     "name": "#%%\n"
    }
   }
  }
 ],
 "metadata": {
  "kernelspec": {
   "display_name": "Python 3",
   "language": "python",
   "name": "python3"
  },
  "language_info": {
   "codemirror_mode": {
    "name": "ipython",
    "version": 2
   },
   "file_extension": ".py",
   "mimetype": "text/x-python",
   "name": "python",
   "nbconvert_exporter": "python",
   "pygments_lexer": "ipython2",
   "version": "2.7.6"
  }
 },
 "nbformat": 4,
 "nbformat_minor": 0
}