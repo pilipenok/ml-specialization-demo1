{
 "cells": [
  {
   "cell_type": "code",
   "execution_count": 2,
   "outputs": [
    {
     "name": "stdout",
     "output_type": "stream",
     "text": [
      "env: GOOGLE_CLOUD_PROJECT=o-epm-gcp-by-meetup1-ml-t1iylu\n",
      "env: GOOGLE_APPLICATION_CREDENTIALS=/Users/oleg/Projects/EPAM/creds.json\n",
      "/Users/oleg/Projects/EPAM/taxi/ml-specialization-demo1/tfx-pipeline\n"
     ]
    },
    {
     "name": "stderr",
     "output_type": "stream",
     "text": [
      "WARNING:absl:`custom_executor_spec` is deprecated. Please customize component directly.\n"
     ]
    }
   ],
   "source": [
    "GOOGLE_CLOUD_PROJECT=\"o-epm-gcp-by-meetup1-ml-t1iylu\"\n",
    "%env GOOGLE_CLOUD_PROJECT={GOOGLE_CLOUD_PROJECT}\n",
    "%env GOOGLE_APPLICATION_CREDENTIALS=/Users/oleg/Projects/EPAM/creds.json\n",
    "%cd /Users/oleg/Projects/EPAM/taxi/ml-specialization-demo1/tfx-pipeline\n",
    "\n",
    "from pipeline import configs, components\n",
    "from tfx.orchestration.experimental.interactive.interactive_context import InteractiveContext\n",
    "import tfx\n",
    "context = InteractiveContext(\n",
    "    pipeline_root=configs.PIPELINE_ROOT,\n",
    "    metadata_connection_config=tfx.orchestration.metadata.sqlite_metadata_connection_config(\n",
    "              '/Users/oleg/Projects/EPAM/taxi/metadata1.db'\n",
    "    )\n",
    ")"
   ],
   "metadata": {
    "collapsed": false,
    "pycharm": {
     "name": "#%%\n"
    }
   }
  },
  {
   "cell_type": "code",
   "execution_count": 3,
   "outputs": [
    {
     "ename": "ValueError",
     "evalue": "push_destination is required unless a custom_executor_spec is supplied that does not require it.",
     "output_type": "error",
     "traceback": [
      "\u001B[0;31m---------------------------------------------------------------------------\u001B[0m",
      "\u001B[0;31mValueError\u001B[0m                                Traceback (most recent call last)",
      "\u001B[0;32m/var/folders/2f/96xj0q5139vghz17xfkfghpw0000gn/T/ipykernel_48899/3322821055.py\u001B[0m in \u001B[0;36m<module>\u001B[0;34m\u001B[0m\n\u001B[1;32m     21\u001B[0m \u001B[0mcontext\u001B[0m\u001B[0;34m.\u001B[0m\u001B[0mrun\u001B[0m\u001B[0;34m(\u001B[0m\u001B[0mevaluator\u001B[0m\u001B[0;34m)\u001B[0m\u001B[0;34m\u001B[0m\u001B[0;34m\u001B[0m\u001B[0m\n\u001B[1;32m     22\u001B[0m \u001B[0;34m\u001B[0m\u001B[0m\n\u001B[0;32m---> 23\u001B[0;31m \u001B[0mpusher\u001B[0m \u001B[0;34m=\u001B[0m \u001B[0mcomponents\u001B[0m\u001B[0;34m.\u001B[0m\u001B[0mpusher_vertex\u001B[0m\u001B[0;34m(\u001B[0m\u001B[0mtrainer\u001B[0m\u001B[0;34m=\u001B[0m\u001B[0mtrainer\u001B[0m\u001B[0;34m,\u001B[0m \u001B[0mevaluator\u001B[0m\u001B[0;34m=\u001B[0m\u001B[0mevaluator\u001B[0m\u001B[0;34m)\u001B[0m\u001B[0;34m\u001B[0m\u001B[0;34m\u001B[0m\u001B[0m\n\u001B[0m\u001B[1;32m     24\u001B[0m \u001B[0mcontext\u001B[0m\u001B[0;34m.\u001B[0m\u001B[0mrun\u001B[0m\u001B[0;34m(\u001B[0m\u001B[0mpusher\u001B[0m\u001B[0;34m)\u001B[0m\u001B[0;34m\u001B[0m\u001B[0;34m\u001B[0m\u001B[0m\n\u001B[1;32m     25\u001B[0m \u001B[0mpusher\u001B[0m\u001B[0;34m.\u001B[0m\u001B[0moutputs\u001B[0m\u001B[0;34m\u001B[0m\u001B[0;34m\u001B[0m\u001B[0m\n",
      "\u001B[0;32m~/Projects/EPAM/taxi/ml-specialization-demo1/tfx-pipeline/pipeline/components.py\u001B[0m in \u001B[0;36mpusher_vertex\u001B[0;34m(trainer, evaluator)\u001B[0m\n\u001B[1;32m    191\u001B[0m     return tfx.components.Pusher(\n\u001B[1;32m    192\u001B[0m         \u001B[0mmodel\u001B[0m\u001B[0;34m=\u001B[0m\u001B[0mtrainer\u001B[0m\u001B[0;34m.\u001B[0m\u001B[0moutputs\u001B[0m\u001B[0;34m[\u001B[0m\u001B[0;34m'model'\u001B[0m\u001B[0;34m]\u001B[0m\u001B[0;34m,\u001B[0m\u001B[0;34m\u001B[0m\u001B[0;34m\u001B[0m\u001B[0m\n\u001B[0;32m--> 193\u001B[0;31m         \u001B[0mmodel_blessing\u001B[0m\u001B[0;34m=\u001B[0m\u001B[0mevaluator\u001B[0m\u001B[0;34m.\u001B[0m\u001B[0moutputs\u001B[0m\u001B[0;34m[\u001B[0m\u001B[0;34m'blessing'\u001B[0m\u001B[0;34m]\u001B[0m\u001B[0;34m,\u001B[0m\u001B[0;34m\u001B[0m\u001B[0;34m\u001B[0m\u001B[0m\n\u001B[0m\u001B[1;32m    194\u001B[0m         \u001B[0mcustom_config\u001B[0m\u001B[0;34m=\u001B[0m\u001B[0;34m{\u001B[0m\u001B[0mENABLE_VERTEX_KEY\u001B[0m\u001B[0;34m:\u001B[0m \u001B[0;32mTrue\u001B[0m\u001B[0;34m}\u001B[0m\u001B[0;34m\u001B[0m\u001B[0;34m\u001B[0m\u001B[0m\n\u001B[1;32m    195\u001B[0m \u001B[0;34m\u001B[0m\u001B[0m\n",
      "\u001B[0;32m~/Projects/EPAM/taxi/ml-specialization-demo1/venv/lib/python3.8/site-packages/tfx/components/pusher/component.py\u001B[0m in \u001B[0;36m__init__\u001B[0;34m(self, model, model_blessing, infra_blessing, push_destination, custom_config, custom_executor_spec)\u001B[0m\n\u001B[1;32m    105\u001B[0m     if (push_destination is None and not custom_executor_spec and\n\u001B[1;32m    106\u001B[0m         self.EXECUTOR_SPEC.executor_class == executor.Executor):\n\u001B[0;32m--> 107\u001B[0;31m       raise ValueError('push_destination is required unless a '\n\u001B[0m\u001B[1;32m    108\u001B[0m                        \u001B[0;34m'custom_executor_spec is supplied that does not require '\u001B[0m\u001B[0;34m\u001B[0m\u001B[0;34m\u001B[0m\u001B[0m\n\u001B[1;32m    109\u001B[0m                        'it.')\n",
      "\u001B[0;31mValueError\u001B[0m: push_destination is required unless a custom_executor_spec is supplied that does not require it."
     ]
    }
   ],
   "source": [
    "example_gen=components.example_gen()\n",
    "context.run(example_gen)\n",
    "\n",
    "statistics_gen=components.statistics_gen(example_gen=example_gen)\n",
    "context.run(statistics_gen)\n",
    "\n",
    "schema_gen = components.schema_gen(statistics_gen=statistics_gen)\n",
    "context.run(schema_gen)\n",
    "\n",
    "transform = components.transform(example_gen=example_gen,schema_gen=schema_gen)\n",
    "context.run(transform)\n",
    "\n",
    "trainer = components.trainer_vertex(\n",
    "    example_gen=example_gen, schema_gen=schema_gen, transform=transform)\n",
    "context.run(trainer)\n",
    "\n",
    "model_resolver = components.model_resolver()\n",
    "context.run(model_resolver)\n",
    "\n",
    "evaluator = components.evaluator(example_gen=example_gen, trainer=trainer, model_resolver=model_resolver)\n",
    "context.run(evaluator)\n",
    "\n",
    "pusher = components.pusher_vertex(trainer=trainer, evaluator=evaluator)\n",
    "context.run(pusher)\n",
    "pusher.outputs\n",
    "\n",
    "\n"
   ],
   "metadata": {
    "collapsed": false,
    "pycharm": {
     "name": "#%%\n"
    }
   }
  },
  {
   "cell_type": "code",
   "execution_count": 3,
   "outputs": [
    {
     "data": {
      "text/plain": "Channel(\n    type_name: Model\n    artifacts: [Artifact(artifact: id: 109\ntype_id: 16\nuri: \"gs://chicago-taxi-ml-demo-1/tfx_pipeline_output/tfx-pipeline-ml/Trainer/model/1020\"\ncustom_properties {\n  key: \"tfx_version\"\n  value {\n    string_value: \"1.2.0\"\n  }\n}\n, artifact_type: id: 16\nname: \"Model\"\n)]\n    additional_properties: {}\n    additional_custom_properties: {}\n)",
      "text/html": "<style>\n.tfx-object.expanded {\n  padding: 4px 8px 4px 8px;\n  background: white;\n  border: 1px solid #bbbbbb;\n  box-shadow: 4px 4px 2px rgba(0,0,0,0.05);\n}\n.tfx-object, .tfx-object * {\n  font-size: 11pt;\n}\n.tfx-object > .title {\n  cursor: pointer;\n}\n.tfx-object .expansion-marker {\n  color: #999999;\n}\n.tfx-object.expanded > .title > .expansion-marker:before {\n  content: '▼';\n}\n.tfx-object.collapsed > .title > .expansion-marker:before {\n  content: '▶';\n}\n.tfx-object .class-name {\n  font-weight: bold;\n}\n.tfx-object .deemphasize {\n  opacity: 0.5;\n}\n.tfx-object.collapsed > table.attr-table {\n  display: none;\n}\n.tfx-object.expanded > table.attr-table {\n  display: block;\n}\n.tfx-object table.attr-table {\n  border: 2px solid white;\n  margin-top: 5px;\n}\n.tfx-object table.attr-table td.attr-name {\n  vertical-align: top;\n  font-weight: bold;\n}\n.tfx-object table.attr-table td.attrvalue {\n  text-align: left;\n}\n</style>\n<script>\nfunction toggleTfxObject(element) {\n  var objElement = element.parentElement;\n  if (objElement.classList.contains('collapsed')) {\n    objElement.classList.remove('collapsed');\n    objElement.classList.add('expanded');\n  } else {\n    objElement.classList.add('collapsed');\n    objElement.classList.remove('expanded');\n  }\n}\n</script>\n<div class=\"tfx-object expanded\"><div class = \"title\" onclick=\"toggleTfxObject(this)\"><span class=\"expansion-marker\"></span><span class=\"class-name\">Channel</span> of type <span class=\"class-name\">'Model'</span> (1 artifact)<span class=\"deemphasize\"> at 0x1736aeac0</span></div><table class=\"attr-table\"><tr><td class=\"attr-name\">.type_name</td><td class = \"attrvalue\">Model</td></tr><tr><td class=\"attr-name\">._artifacts</td><td class = \"attrvalue\"><table class=\"attr-table\"><tr><td class=\"attr-name\">[0]</td><td class = \"attrvalue\"><style>\n.tfx-object.expanded {\n  padding: 4px 8px 4px 8px;\n  background: white;\n  border: 1px solid #bbbbbb;\n  box-shadow: 4px 4px 2px rgba(0,0,0,0.05);\n}\n.tfx-object, .tfx-object * {\n  font-size: 11pt;\n}\n.tfx-object > .title {\n  cursor: pointer;\n}\n.tfx-object .expansion-marker {\n  color: #999999;\n}\n.tfx-object.expanded > .title > .expansion-marker:before {\n  content: '▼';\n}\n.tfx-object.collapsed > .title > .expansion-marker:before {\n  content: '▶';\n}\n.tfx-object .class-name {\n  font-weight: bold;\n}\n.tfx-object .deemphasize {\n  opacity: 0.5;\n}\n.tfx-object.collapsed > table.attr-table {\n  display: none;\n}\n.tfx-object.expanded > table.attr-table {\n  display: block;\n}\n.tfx-object table.attr-table {\n  border: 2px solid white;\n  margin-top: 5px;\n}\n.tfx-object table.attr-table td.attr-name {\n  vertical-align: top;\n  font-weight: bold;\n}\n.tfx-object table.attr-table td.attrvalue {\n  text-align: left;\n}\n</style>\n<script>\nfunction toggleTfxObject(element) {\n  var objElement = element.parentElement;\n  if (objElement.classList.contains('collapsed')) {\n    objElement.classList.remove('collapsed');\n    objElement.classList.add('expanded');\n  } else {\n    objElement.classList.add('collapsed');\n    objElement.classList.remove('expanded');\n  }\n}\n</script>\n<div class=\"tfx-object collapsed\"><div class = \"title\" onclick=\"toggleTfxObject(this)\"><span class=\"expansion-marker\"></span><span class=\"class-name\">Artifact</span> of type <span class=\"class-name\">'Model'</span> (uri: gs://chicago-taxi-ml-demo-1/tfx_pipeline_output/tfx-pipeline-ml/Trainer/model/1020)<span class=\"deemphasize\"> at 0x1736c99a0</span></div><table class=\"attr-table\"><tr><td class=\"attr-name\">.type</td><td class = \"attrvalue\">&lt;class &#x27;tfx.types.standard_artifacts.Model&#x27;&gt;</td></tr><tr><td class=\"attr-name\">.uri</td><td class = \"attrvalue\">gs://chicago-taxi-ml-demo-1/tfx_pipeline_output/tfx-pipeline-ml/Trainer/model/1020</td></tr></table></div></td></tr></table></td></tr></table></div>"
     },
     "execution_count": 3,
     "metadata": {},
     "output_type": "execute_result"
    }
   ],
   "source": [
    "from tfx.dsl.components.common.importer import Importer\n",
    "model = Importer(\n",
    "    source_uri='gs://chicago-taxi-ml-demo-1/tfx_pipeline_output/tfx-pipeline-ml/Trainer/model/1020',\n",
    "    artifact_type=tfx.types.standard_artifacts.Model,\n",
    "    reimport=True)\n",
    "\n",
    "context.run(model)\n",
    "\n",
    "model.outputs['result']"
   ],
   "metadata": {
    "collapsed": false,
    "pycharm": {
     "name": "#%%\n"
    }
   }
  },
  {
   "cell_type": "code",
   "execution_count": 6,
   "outputs": [
    {
     "name": "stderr",
     "output_type": "stream",
     "text": [
      "WARNING:absl:`custom_executor_spec` is deprecated. Please customize component directly.\n",
      "WARNING:absl:Pusher is going to push the model without validation. Consider using Evaluator or InfraValidator in your pipeline.\n",
      "WARNING:absl:Length of label `tfx-extensions-google_cloud_ai_platform-pusher-executor-executor` exceeds maximum length(63), trimmed.\n",
      "WARNING:absl:Current python version is not the same as default of 3.7.\n"
     ]
    },
    {
     "data": {
      "text/plain": "ExecutionResult(\n    component_id: Pusher\n    execution_id: 97\n    outputs:\n        pushed_model: Channel(\n            type_name: PushedModel\n            artifacts: [Artifact(artifact: id: 112\n        type_id: 14\n        uri: \"gs://chicago-taxi-ml-demo-1/tfx_pipeline_output/tfx-pipeline-ml/Pusher/pushed_model/97\"\n        custom_properties {\n          key: \"name\"\n          value {\n            string_value: \"pushed_model\"\n          }\n        }\n        custom_properties {\n          key: \"producer_component\"\n          value {\n            string_value: \"Pusher\"\n          }\n        }\n        custom_properties {\n          key: \"pushed\"\n          value {\n            int_value: 1\n          }\n        }\n        custom_properties {\n          key: \"pushed_destination\"\n          value {\n            string_value: \"projects/1012336990068/locations/us-central1/models/3651636445518495744\"\n          }\n        }\n        custom_properties {\n          key: \"state\"\n          value {\n            string_value: \"published\"\n          }\n        }\n        custom_properties {\n          key: \"tfx_version\"\n          value {\n            string_value: \"1.2.0\"\n          }\n        }\n        state: LIVE\n        , artifact_type: id: 14\n        name: \"PushedModel\"\n        )]\n            additional_properties: {}\n            additional_custom_properties: {}\n        ))",
      "text/html": "<style>\n.tfx-object.expanded {\n  padding: 4px 8px 4px 8px;\n  background: white;\n  border: 1px solid #bbbbbb;\n  box-shadow: 4px 4px 2px rgba(0,0,0,0.05);\n}\n.tfx-object, .tfx-object * {\n  font-size: 11pt;\n}\n.tfx-object > .title {\n  cursor: pointer;\n}\n.tfx-object .expansion-marker {\n  color: #999999;\n}\n.tfx-object.expanded > .title > .expansion-marker:before {\n  content: '▼';\n}\n.tfx-object.collapsed > .title > .expansion-marker:before {\n  content: '▶';\n}\n.tfx-object .class-name {\n  font-weight: bold;\n}\n.tfx-object .deemphasize {\n  opacity: 0.5;\n}\n.tfx-object.collapsed > table.attr-table {\n  display: none;\n}\n.tfx-object.expanded > table.attr-table {\n  display: block;\n}\n.tfx-object table.attr-table {\n  border: 2px solid white;\n  margin-top: 5px;\n}\n.tfx-object table.attr-table td.attr-name {\n  vertical-align: top;\n  font-weight: bold;\n}\n.tfx-object table.attr-table td.attrvalue {\n  text-align: left;\n}\n</style>\n<script>\nfunction toggleTfxObject(element) {\n  var objElement = element.parentElement;\n  if (objElement.classList.contains('collapsed')) {\n    objElement.classList.remove('collapsed');\n    objElement.classList.add('expanded');\n  } else {\n    objElement.classList.add('collapsed');\n    objElement.classList.remove('expanded');\n  }\n}\n</script>\n<div class=\"tfx-object expanded\"><div class = \"title\" onclick=\"toggleTfxObject(this)\"><span class=\"expansion-marker\"></span><span class=\"class-name\">ExecutionResult</span><span class=\"deemphasize\"> at 0x175b48dc0</span></div><table class=\"attr-table\"><tr><td class=\"attr-name\">.execution_id</td><td class = \"attrvalue\">97</td></tr><tr><td class=\"attr-name\">.component</td><td class = \"attrvalue\"><style>\n.tfx-object.expanded {\n  padding: 4px 8px 4px 8px;\n  background: white;\n  border: 1px solid #bbbbbb;\n  box-shadow: 4px 4px 2px rgba(0,0,0,0.05);\n}\n.tfx-object, .tfx-object * {\n  font-size: 11pt;\n}\n.tfx-object > .title {\n  cursor: pointer;\n}\n.tfx-object .expansion-marker {\n  color: #999999;\n}\n.tfx-object.expanded > .title > .expansion-marker:before {\n  content: '▼';\n}\n.tfx-object.collapsed > .title > .expansion-marker:before {\n  content: '▶';\n}\n.tfx-object .class-name {\n  font-weight: bold;\n}\n.tfx-object .deemphasize {\n  opacity: 0.5;\n}\n.tfx-object.collapsed > table.attr-table {\n  display: none;\n}\n.tfx-object.expanded > table.attr-table {\n  display: block;\n}\n.tfx-object table.attr-table {\n  border: 2px solid white;\n  margin-top: 5px;\n}\n.tfx-object table.attr-table td.attr-name {\n  vertical-align: top;\n  font-weight: bold;\n}\n.tfx-object table.attr-table td.attrvalue {\n  text-align: left;\n}\n</style>\n<script>\nfunction toggleTfxObject(element) {\n  var objElement = element.parentElement;\n  if (objElement.classList.contains('collapsed')) {\n    objElement.classList.remove('collapsed');\n    objElement.classList.add('expanded');\n  } else {\n    objElement.classList.add('collapsed');\n    objElement.classList.remove('expanded');\n  }\n}\n</script>\n<div class=\"tfx-object collapsed\"><div class = \"title\" onclick=\"toggleTfxObject(this)\"><span class=\"expansion-marker\"></span><span class=\"class-name\">Pusher</span><span class=\"deemphasize\"> at 0x175c636a0</span></div><table class=\"attr-table\"><tr><td class=\"attr-name\">.inputs</td><td class = \"attrvalue\"><table class=\"attr-table\"><tr><td class=\"attr-name\">['model']</td><td class = \"attrvalue\"><style>\n.tfx-object.expanded {\n  padding: 4px 8px 4px 8px;\n  background: white;\n  border: 1px solid #bbbbbb;\n  box-shadow: 4px 4px 2px rgba(0,0,0,0.05);\n}\n.tfx-object, .tfx-object * {\n  font-size: 11pt;\n}\n.tfx-object > .title {\n  cursor: pointer;\n}\n.tfx-object .expansion-marker {\n  color: #999999;\n}\n.tfx-object.expanded > .title > .expansion-marker:before {\n  content: '▼';\n}\n.tfx-object.collapsed > .title > .expansion-marker:before {\n  content: '▶';\n}\n.tfx-object .class-name {\n  font-weight: bold;\n}\n.tfx-object .deemphasize {\n  opacity: 0.5;\n}\n.tfx-object.collapsed > table.attr-table {\n  display: none;\n}\n.tfx-object.expanded > table.attr-table {\n  display: block;\n}\n.tfx-object table.attr-table {\n  border: 2px solid white;\n  margin-top: 5px;\n}\n.tfx-object table.attr-table td.attr-name {\n  vertical-align: top;\n  font-weight: bold;\n}\n.tfx-object table.attr-table td.attrvalue {\n  text-align: left;\n}\n</style>\n<script>\nfunction toggleTfxObject(element) {\n  var objElement = element.parentElement;\n  if (objElement.classList.contains('collapsed')) {\n    objElement.classList.remove('collapsed');\n    objElement.classList.add('expanded');\n  } else {\n    objElement.classList.add('collapsed');\n    objElement.classList.remove('expanded');\n  }\n}\n</script>\n<div class=\"tfx-object collapsed\"><div class = \"title\" onclick=\"toggleTfxObject(this)\"><span class=\"expansion-marker\"></span><span class=\"class-name\">Channel</span> of type <span class=\"class-name\">'Model'</span> (1 artifact)<span class=\"deemphasize\"> at 0x1736aeac0</span></div><table class=\"attr-table\"><tr><td class=\"attr-name\">.type_name</td><td class = \"attrvalue\">Model</td></tr><tr><td class=\"attr-name\">._artifacts</td><td class = \"attrvalue\"><table class=\"attr-table\"><tr><td class=\"attr-name\">[0]</td><td class = \"attrvalue\"><style>\n.tfx-object.expanded {\n  padding: 4px 8px 4px 8px;\n  background: white;\n  border: 1px solid #bbbbbb;\n  box-shadow: 4px 4px 2px rgba(0,0,0,0.05);\n}\n.tfx-object, .tfx-object * {\n  font-size: 11pt;\n}\n.tfx-object > .title {\n  cursor: pointer;\n}\n.tfx-object .expansion-marker {\n  color: #999999;\n}\n.tfx-object.expanded > .title > .expansion-marker:before {\n  content: '▼';\n}\n.tfx-object.collapsed > .title > .expansion-marker:before {\n  content: '▶';\n}\n.tfx-object .class-name {\n  font-weight: bold;\n}\n.tfx-object .deemphasize {\n  opacity: 0.5;\n}\n.tfx-object.collapsed > table.attr-table {\n  display: none;\n}\n.tfx-object.expanded > table.attr-table {\n  display: block;\n}\n.tfx-object table.attr-table {\n  border: 2px solid white;\n  margin-top: 5px;\n}\n.tfx-object table.attr-table td.attr-name {\n  vertical-align: top;\n  font-weight: bold;\n}\n.tfx-object table.attr-table td.attrvalue {\n  text-align: left;\n}\n</style>\n<script>\nfunction toggleTfxObject(element) {\n  var objElement = element.parentElement;\n  if (objElement.classList.contains('collapsed')) {\n    objElement.classList.remove('collapsed');\n    objElement.classList.add('expanded');\n  } else {\n    objElement.classList.add('collapsed');\n    objElement.classList.remove('expanded');\n  }\n}\n</script>\n<div class=\"tfx-object collapsed\"><div class = \"title\" onclick=\"toggleTfxObject(this)\"><span class=\"expansion-marker\"></span><span class=\"class-name\">Artifact</span> of type <span class=\"class-name\">'Model'</span> (uri: gs://chicago-taxi-ml-demo-1/tfx_pipeline_output/tfx-pipeline-ml/Trainer/model/1020)<span class=\"deemphasize\"> at 0x1736c99a0</span></div><table class=\"attr-table\"><tr><td class=\"attr-name\">.type</td><td class = \"attrvalue\">&lt;class &#x27;tfx.types.standard_artifacts.Model&#x27;&gt;</td></tr><tr><td class=\"attr-name\">.uri</td><td class = \"attrvalue\">gs://chicago-taxi-ml-demo-1/tfx_pipeline_output/tfx-pipeline-ml/Trainer/model/1020</td></tr></table></div></td></tr></table></td></tr></table></div></td></tr></table></td></tr><tr><td class=\"attr-name\">.outputs</td><td class = \"attrvalue\"><table class=\"attr-table\"><tr><td class=\"attr-name\">['pushed_model']</td><td class = \"attrvalue\"><style>\n.tfx-object.expanded {\n  padding: 4px 8px 4px 8px;\n  background: white;\n  border: 1px solid #bbbbbb;\n  box-shadow: 4px 4px 2px rgba(0,0,0,0.05);\n}\n.tfx-object, .tfx-object * {\n  font-size: 11pt;\n}\n.tfx-object > .title {\n  cursor: pointer;\n}\n.tfx-object .expansion-marker {\n  color: #999999;\n}\n.tfx-object.expanded > .title > .expansion-marker:before {\n  content: '▼';\n}\n.tfx-object.collapsed > .title > .expansion-marker:before {\n  content: '▶';\n}\n.tfx-object .class-name {\n  font-weight: bold;\n}\n.tfx-object .deemphasize {\n  opacity: 0.5;\n}\n.tfx-object.collapsed > table.attr-table {\n  display: none;\n}\n.tfx-object.expanded > table.attr-table {\n  display: block;\n}\n.tfx-object table.attr-table {\n  border: 2px solid white;\n  margin-top: 5px;\n}\n.tfx-object table.attr-table td.attr-name {\n  vertical-align: top;\n  font-weight: bold;\n}\n.tfx-object table.attr-table td.attrvalue {\n  text-align: left;\n}\n</style>\n<script>\nfunction toggleTfxObject(element) {\n  var objElement = element.parentElement;\n  if (objElement.classList.contains('collapsed')) {\n    objElement.classList.remove('collapsed');\n    objElement.classList.add('expanded');\n  } else {\n    objElement.classList.add('collapsed');\n    objElement.classList.remove('expanded');\n  }\n}\n</script>\n<div class=\"tfx-object collapsed\"><div class = \"title\" onclick=\"toggleTfxObject(this)\"><span class=\"expansion-marker\"></span><span class=\"class-name\">Channel</span> of type <span class=\"class-name\">'PushedModel'</span> (1 artifact)<span class=\"deemphasize\"> at 0x175c63100</span></div><table class=\"attr-table\"><tr><td class=\"attr-name\">.type_name</td><td class = \"attrvalue\">PushedModel</td></tr><tr><td class=\"attr-name\">._artifacts</td><td class = \"attrvalue\"><table class=\"attr-table\"><tr><td class=\"attr-name\">[0]</td><td class = \"attrvalue\"><style>\n.tfx-object.expanded {\n  padding: 4px 8px 4px 8px;\n  background: white;\n  border: 1px solid #bbbbbb;\n  box-shadow: 4px 4px 2px rgba(0,0,0,0.05);\n}\n.tfx-object, .tfx-object * {\n  font-size: 11pt;\n}\n.tfx-object > .title {\n  cursor: pointer;\n}\n.tfx-object .expansion-marker {\n  color: #999999;\n}\n.tfx-object.expanded > .title > .expansion-marker:before {\n  content: '▼';\n}\n.tfx-object.collapsed > .title > .expansion-marker:before {\n  content: '▶';\n}\n.tfx-object .class-name {\n  font-weight: bold;\n}\n.tfx-object .deemphasize {\n  opacity: 0.5;\n}\n.tfx-object.collapsed > table.attr-table {\n  display: none;\n}\n.tfx-object.expanded > table.attr-table {\n  display: block;\n}\n.tfx-object table.attr-table {\n  border: 2px solid white;\n  margin-top: 5px;\n}\n.tfx-object table.attr-table td.attr-name {\n  vertical-align: top;\n  font-weight: bold;\n}\n.tfx-object table.attr-table td.attrvalue {\n  text-align: left;\n}\n</style>\n<script>\nfunction toggleTfxObject(element) {\n  var objElement = element.parentElement;\n  if (objElement.classList.contains('collapsed')) {\n    objElement.classList.remove('collapsed');\n    objElement.classList.add('expanded');\n  } else {\n    objElement.classList.add('collapsed');\n    objElement.classList.remove('expanded');\n  }\n}\n</script>\n<div class=\"tfx-object collapsed\"><div class = \"title\" onclick=\"toggleTfxObject(this)\"><span class=\"expansion-marker\"></span><span class=\"class-name\">Artifact</span> of type <span class=\"class-name\">'PushedModel'</span> (uri: gs://chicago-taxi-ml-demo-1/tfx_pipeline_output/tfx-pipeline-ml/Pusher/pushed_model/97)<span class=\"deemphasize\"> at 0x175b48730</span></div><table class=\"attr-table\"><tr><td class=\"attr-name\">.type</td><td class = \"attrvalue\">&lt;class &#x27;tfx.types.standard_artifacts.PushedModel&#x27;&gt;</td></tr><tr><td class=\"attr-name\">.uri</td><td class = \"attrvalue\">gs://chicago-taxi-ml-demo-1/tfx_pipeline_output/tfx-pipeline-ml/Pusher/pushed_model/97</td></tr></table></div></td></tr></table></td></tr></table></div></td></tr></table></td></tr><tr><td class=\"attr-name\">.exec_properties</td><td class = \"attrvalue\"><table class=\"attr-table\"><tr><td class=\"attr-name\">['push_destination']</td><td class = \"attrvalue\">None</td></tr><tr><td class=\"attr-name\">['custom_config']</td><td class = \"attrvalue\">{&quot;ai_platform_enable_vertex&quot;: true, &quot;ai_platform_serving_args&quot;: {&quot;endpoint_name&quot;: &quot;my_model_endpoint&quot;, &quot;machine_type&quot;: &quot;n1-standard-2&quot;, &quot;max_replica_count&quot;: 2, &quot;min_replica_count&quot;: 1, &quot;model_name&quot;: &quot;try_pusher&quot;, &quot;project_id&quot;: &quot;o-epm-gcp-by-meetup1-ml-t1iylu&quot;, &quot;regions&quot;: [&quot;us-central1&quot;]}, &quot;ai_platform_vertex_container_image_uri&quot;: &quot;us-docker.pkg.dev/vertex-ai/prediction/tf2-cpu.2-5:latest&quot;, &quot;ai_platform_vertex_region&quot;: &quot;us-central1&quot;}</td></tr></table></td></tr></table></div></td></tr><tr><td class=\"attr-name\">.component.inputs</td><td class = \"attrvalue\"><table class=\"attr-table\"><tr><td class=\"attr-name\">['model']</td><td class = \"attrvalue\"><style>\n.tfx-object.expanded {\n  padding: 4px 8px 4px 8px;\n  background: white;\n  border: 1px solid #bbbbbb;\n  box-shadow: 4px 4px 2px rgba(0,0,0,0.05);\n}\n.tfx-object, .tfx-object * {\n  font-size: 11pt;\n}\n.tfx-object > .title {\n  cursor: pointer;\n}\n.tfx-object .expansion-marker {\n  color: #999999;\n}\n.tfx-object.expanded > .title > .expansion-marker:before {\n  content: '▼';\n}\n.tfx-object.collapsed > .title > .expansion-marker:before {\n  content: '▶';\n}\n.tfx-object .class-name {\n  font-weight: bold;\n}\n.tfx-object .deemphasize {\n  opacity: 0.5;\n}\n.tfx-object.collapsed > table.attr-table {\n  display: none;\n}\n.tfx-object.expanded > table.attr-table {\n  display: block;\n}\n.tfx-object table.attr-table {\n  border: 2px solid white;\n  margin-top: 5px;\n}\n.tfx-object table.attr-table td.attr-name {\n  vertical-align: top;\n  font-weight: bold;\n}\n.tfx-object table.attr-table td.attrvalue {\n  text-align: left;\n}\n</style>\n<script>\nfunction toggleTfxObject(element) {\n  var objElement = element.parentElement;\n  if (objElement.classList.contains('collapsed')) {\n    objElement.classList.remove('collapsed');\n    objElement.classList.add('expanded');\n  } else {\n    objElement.classList.add('collapsed');\n    objElement.classList.remove('expanded');\n  }\n}\n</script>\n<div class=\"tfx-object collapsed\"><div class = \"title\" onclick=\"toggleTfxObject(this)\"><span class=\"expansion-marker\"></span><span class=\"class-name\">Channel</span> of type <span class=\"class-name\">'Model'</span> (1 artifact)<span class=\"deemphasize\"> at 0x1736aeac0</span></div><table class=\"attr-table\"><tr><td class=\"attr-name\">.type_name</td><td class = \"attrvalue\">Model</td></tr><tr><td class=\"attr-name\">._artifacts</td><td class = \"attrvalue\"><table class=\"attr-table\"><tr><td class=\"attr-name\">[0]</td><td class = \"attrvalue\"><style>\n.tfx-object.expanded {\n  padding: 4px 8px 4px 8px;\n  background: white;\n  border: 1px solid #bbbbbb;\n  box-shadow: 4px 4px 2px rgba(0,0,0,0.05);\n}\n.tfx-object, .tfx-object * {\n  font-size: 11pt;\n}\n.tfx-object > .title {\n  cursor: pointer;\n}\n.tfx-object .expansion-marker {\n  color: #999999;\n}\n.tfx-object.expanded > .title > .expansion-marker:before {\n  content: '▼';\n}\n.tfx-object.collapsed > .title > .expansion-marker:before {\n  content: '▶';\n}\n.tfx-object .class-name {\n  font-weight: bold;\n}\n.tfx-object .deemphasize {\n  opacity: 0.5;\n}\n.tfx-object.collapsed > table.attr-table {\n  display: none;\n}\n.tfx-object.expanded > table.attr-table {\n  display: block;\n}\n.tfx-object table.attr-table {\n  border: 2px solid white;\n  margin-top: 5px;\n}\n.tfx-object table.attr-table td.attr-name {\n  vertical-align: top;\n  font-weight: bold;\n}\n.tfx-object table.attr-table td.attrvalue {\n  text-align: left;\n}\n</style>\n<script>\nfunction toggleTfxObject(element) {\n  var objElement = element.parentElement;\n  if (objElement.classList.contains('collapsed')) {\n    objElement.classList.remove('collapsed');\n    objElement.classList.add('expanded');\n  } else {\n    objElement.classList.add('collapsed');\n    objElement.classList.remove('expanded');\n  }\n}\n</script>\n<div class=\"tfx-object collapsed\"><div class = \"title\" onclick=\"toggleTfxObject(this)\"><span class=\"expansion-marker\"></span><span class=\"class-name\">Artifact</span> of type <span class=\"class-name\">'Model'</span> (uri: gs://chicago-taxi-ml-demo-1/tfx_pipeline_output/tfx-pipeline-ml/Trainer/model/1020)<span class=\"deemphasize\"> at 0x1736c99a0</span></div><table class=\"attr-table\"><tr><td class=\"attr-name\">.type</td><td class = \"attrvalue\">&lt;class &#x27;tfx.types.standard_artifacts.Model&#x27;&gt;</td></tr><tr><td class=\"attr-name\">.uri</td><td class = \"attrvalue\">gs://chicago-taxi-ml-demo-1/tfx_pipeline_output/tfx-pipeline-ml/Trainer/model/1020</td></tr></table></div></td></tr></table></td></tr></table></div></td></tr></table></td></tr><tr><td class=\"attr-name\">.component.outputs</td><td class = \"attrvalue\"><table class=\"attr-table\"><tr><td class=\"attr-name\">['pushed_model']</td><td class = \"attrvalue\"><style>\n.tfx-object.expanded {\n  padding: 4px 8px 4px 8px;\n  background: white;\n  border: 1px solid #bbbbbb;\n  box-shadow: 4px 4px 2px rgba(0,0,0,0.05);\n}\n.tfx-object, .tfx-object * {\n  font-size: 11pt;\n}\n.tfx-object > .title {\n  cursor: pointer;\n}\n.tfx-object .expansion-marker {\n  color: #999999;\n}\n.tfx-object.expanded > .title > .expansion-marker:before {\n  content: '▼';\n}\n.tfx-object.collapsed > .title > .expansion-marker:before {\n  content: '▶';\n}\n.tfx-object .class-name {\n  font-weight: bold;\n}\n.tfx-object .deemphasize {\n  opacity: 0.5;\n}\n.tfx-object.collapsed > table.attr-table {\n  display: none;\n}\n.tfx-object.expanded > table.attr-table {\n  display: block;\n}\n.tfx-object table.attr-table {\n  border: 2px solid white;\n  margin-top: 5px;\n}\n.tfx-object table.attr-table td.attr-name {\n  vertical-align: top;\n  font-weight: bold;\n}\n.tfx-object table.attr-table td.attrvalue {\n  text-align: left;\n}\n</style>\n<script>\nfunction toggleTfxObject(element) {\n  var objElement = element.parentElement;\n  if (objElement.classList.contains('collapsed')) {\n    objElement.classList.remove('collapsed');\n    objElement.classList.add('expanded');\n  } else {\n    objElement.classList.add('collapsed');\n    objElement.classList.remove('expanded');\n  }\n}\n</script>\n<div class=\"tfx-object collapsed\"><div class = \"title\" onclick=\"toggleTfxObject(this)\"><span class=\"expansion-marker\"></span><span class=\"class-name\">Channel</span> of type <span class=\"class-name\">'PushedModel'</span> (1 artifact)<span class=\"deemphasize\"> at 0x175c63100</span></div><table class=\"attr-table\"><tr><td class=\"attr-name\">.type_name</td><td class = \"attrvalue\">PushedModel</td></tr><tr><td class=\"attr-name\">._artifacts</td><td class = \"attrvalue\"><table class=\"attr-table\"><tr><td class=\"attr-name\">[0]</td><td class = \"attrvalue\"><style>\n.tfx-object.expanded {\n  padding: 4px 8px 4px 8px;\n  background: white;\n  border: 1px solid #bbbbbb;\n  box-shadow: 4px 4px 2px rgba(0,0,0,0.05);\n}\n.tfx-object, .tfx-object * {\n  font-size: 11pt;\n}\n.tfx-object > .title {\n  cursor: pointer;\n}\n.tfx-object .expansion-marker {\n  color: #999999;\n}\n.tfx-object.expanded > .title > .expansion-marker:before {\n  content: '▼';\n}\n.tfx-object.collapsed > .title > .expansion-marker:before {\n  content: '▶';\n}\n.tfx-object .class-name {\n  font-weight: bold;\n}\n.tfx-object .deemphasize {\n  opacity: 0.5;\n}\n.tfx-object.collapsed > table.attr-table {\n  display: none;\n}\n.tfx-object.expanded > table.attr-table {\n  display: block;\n}\n.tfx-object table.attr-table {\n  border: 2px solid white;\n  margin-top: 5px;\n}\n.tfx-object table.attr-table td.attr-name {\n  vertical-align: top;\n  font-weight: bold;\n}\n.tfx-object table.attr-table td.attrvalue {\n  text-align: left;\n}\n</style>\n<script>\nfunction toggleTfxObject(element) {\n  var objElement = element.parentElement;\n  if (objElement.classList.contains('collapsed')) {\n    objElement.classList.remove('collapsed');\n    objElement.classList.add('expanded');\n  } else {\n    objElement.classList.add('collapsed');\n    objElement.classList.remove('expanded');\n  }\n}\n</script>\n<div class=\"tfx-object collapsed\"><div class = \"title\" onclick=\"toggleTfxObject(this)\"><span class=\"expansion-marker\"></span><span class=\"class-name\">Artifact</span> of type <span class=\"class-name\">'PushedModel'</span> (uri: gs://chicago-taxi-ml-demo-1/tfx_pipeline_output/tfx-pipeline-ml/Pusher/pushed_model/97)<span class=\"deemphasize\"> at 0x175b48730</span></div><table class=\"attr-table\"><tr><td class=\"attr-name\">.type</td><td class = \"attrvalue\">&lt;class &#x27;tfx.types.standard_artifacts.PushedModel&#x27;&gt;</td></tr><tr><td class=\"attr-name\">.uri</td><td class = \"attrvalue\">gs://chicago-taxi-ml-demo-1/tfx_pipeline_output/tfx-pipeline-ml/Pusher/pushed_model/97</td></tr></table></div></td></tr></table></td></tr></table></div></td></tr></table></td></tr></table></div>"
     },
     "execution_count": 6,
     "metadata": {},
     "output_type": "execute_result"
    }
   ],
   "source": [
    "from tfx.extensions.google_cloud_ai_platform.pusher.executor import ENABLE_VERTEX_KEY, VERTEX_REGION_KEY, VERTEX_CONTAINER_IMAGE_URI_KEY\n",
    "from tfx.extensions.google_cloud_ai_platform.pusher import executor as ai_platform_pusher_executor\n",
    "from tfx.dsl.components.base import executor_spec\n",
    "from tfx.proto import pusher_pb2\n",
    "\n",
    "pusher = tfx.components.Pusher(\n",
    "        model=model.outputs['result'],\n",
    "        custom_executor_spec=executor_spec.ExecutorClassSpec(ai_platform_pusher_executor.Executor),\n",
    "        custom_config={\n",
    "            ENABLE_VERTEX_KEY: True,\n",
    "            VERTEX_REGION_KEY: 'us-central1',\n",
    "            VERTEX_CONTAINER_IMAGE_URI_KEY: 'us-docker.pkg.dev/vertex-ai/prediction/tf2-cpu.2-5:latest',\n",
    "            ai_platform_pusher_executor.SERVING_ARGS_KEY: {\n",
    "                'model_name': 'try_pusher',  # '-' is not allowed.\n",
    "                'project_id': GOOGLE_CLOUD_PROJECT,\n",
    "                'regions': ['us-central1'],\n",
    "                'endpoint_name': 'my_model_endpoint',\n",
    "                'min_replica_count': 1,\n",
    "                'max_replica_count': 2,\n",
    "                'machine_type': 'n1-standard-2'\n",
    "            },\n",
    "        },\n",
    "        # push_destination=pusher_pb2.PushDestination(\n",
    "        #     filesystem=pusher_pb2.PushDestination.Filesystem(\n",
    "        #         base_directory=\"gs://chicago-taxi-ml-demo-1/tfx_pipeline_output/tfx-pipeline-ml/Pusher/model/1020\"\n",
    "        #     )\n",
    "        # )\n",
    ").with_id('Pusher')\n",
    "context.run(pusher)"
   ],
   "metadata": {
    "collapsed": false,
    "pycharm": {
     "name": "#%%\n"
    }
   }
  },
  {
   "cell_type": "code",
   "execution_count": null,
   "outputs": [],
   "source": [],
   "metadata": {
    "collapsed": false,
    "pycharm": {
     "name": "#%%\n"
    }
   }
  }
 ],
 "metadata": {
  "kernelspec": {
   "display_name": "Python 3",
   "language": "python",
   "name": "python3"
  },
  "language_info": {
   "codemirror_mode": {
    "name": "ipython",
    "version": 2
   },
   "file_extension": ".py",
   "mimetype": "text/x-python",
   "name": "python",
   "nbconvert_exporter": "python",
   "pygments_lexer": "ipython2",
   "version": "2.7.6"
  }
 },
 "nbformat": 4,
 "nbformat_minor": 0
}