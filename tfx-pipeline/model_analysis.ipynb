{
 "cells": [
  {
   "cell_type": "code",
   "execution_count": 2,
   "metadata": {
    "ExecuteTime": {
     "end_time": "2024-09-29T16:55:47.130446Z",
     "start_time": "2024-09-29T16:55:47.124310Z"
    }
   },
   "outputs": [
    {
     "name": "stdout",
     "output_type": "stream",
     "text": [
      "TF version: 2.15.1\n",
      "TFMA version: 0.46.0\n"
     ]
    }
   ],
   "source": [
    "# import required libs\n",
    "import glob\n",
    "import os\n",
    "\n",
    "import tensorflow as tf\n",
    "import tensorflow_model_analysis as tfma\n",
    "print('TF version: {}'.format(tf.version.VERSION))\n",
    "print('TFMA version: {}'.format(tfma.version.VERSION))"
   ]
  },
  {
   "cell_type": "code",
   "execution_count": 4,
   "metadata": {
    "ExecuteTime": {
     "end_time": "2024-09-29T16:57:56.786259Z",
     "start_time": "2024-09-29T16:57:56.654431Z"
    }
   },
   "outputs": [],
   "source": [
    "# Read artifact information from metadata store.\n",
    "from tfx.orchestration import metadata\n",
    "from tfx.types import standard_artifacts\n",
    "from pipeline import configs\n",
    "\n",
    "METADATA_PATH = os.path.join(\n",
    "    configs.LOCAL_OUTPUT_DIR,\n",
    "    'tfx_metadata',\n",
    "    configs.PIPELINE_NAME,\n",
    "    'metadata.db'\n",
    ")\n",
    "\n",
    "metadata_connection_config = metadata.sqlite_metadata_connection_config(METADATA_PATH)\n",
    "with metadata.Metadata(metadata_connection_config) as store:\n",
    "    model_eval_artifacts = store.get_artifacts_by_type(standard_artifacts.ModelEvaluation.TYPE_NAME)"
   ]
  },
  {
   "cell_type": "code",
   "execution_count": 9,
   "metadata": {
    "ExecuteTime": {
     "end_time": "2024-09-29T17:03:48.177384Z",
     "start_time": "2024-09-29T17:03:48.169186Z"
    }
   },
   "outputs": [
    {
     "name": "stdout",
     "output_type": "stream",
     "text": [
      "Generated model evaluation result:./data/eval\n"
     ]
    }
   ],
   "source": [
    "# configure output paths\n",
    "# Exact paths to output artifacts can be found in the execution logs\n",
    "# or KFP Web UI if you are using kubeflow.\n",
    "\n",
    "#model_eval_path = model_eval_artifacts[-1].uri\n",
    "model_eval_path = \"./data/eval\"\n",
    "print(\"Generated model evaluation result:{}\".format(model_eval_path))"
   ]
  },
  {
   "cell_type": "markdown",
   "metadata": {},
   "source": [
    "## Install Jupyter Extensions\n",
    "Note: If running in a local Jupyter notebook, then these Jupyter extensions must be installed in the environment before running Jupyter.\n",
    "\n",
    "```bash\n",
    "jupyter nbextension enable --py widgetsnbextension\n",
    "jupyter nbextension install --py --symlink tensorflow_model_analysis\n",
    "jupyter nbextension enable --py tensorflow_model_analysis\n",
    "```"
   ]
  },
  {
   "cell_type": "code",
   "execution_count": 10,
   "metadata": {
    "ExecuteTime": {
     "end_time": "2024-09-29T17:03:51.853892Z",
     "start_time": "2024-09-29T17:03:51.779660Z"
    }
   },
   "outputs": [
    {
     "ename": "ValueError",
     "evalue": "No slices found for SingleSliceSpec(columns=frozenset({'trip_start_hour'}), features=frozenset())",
     "output_type": "error",
     "traceback": [
      "\u001B[0;31m---------------------------------------------------------------------------\u001B[0m",
      "\u001B[0;31mValueError\u001B[0m                                Traceback (most recent call last)",
      "Cell \u001B[0;32mIn[10], line 2\u001B[0m\n\u001B[1;32m      1\u001B[0m eval_result \u001B[38;5;241m=\u001B[39m tfma\u001B[38;5;241m.\u001B[39mload_eval_result(model_eval_path)\n\u001B[0;32m----> 2\u001B[0m \u001B[43mtfma\u001B[49m\u001B[38;5;241;43m.\u001B[39;49m\u001B[43mview\u001B[49m\u001B[38;5;241;43m.\u001B[39;49m\u001B[43mrender_slicing_metrics\u001B[49m\u001B[43m(\u001B[49m\u001B[43meval_result\u001B[49m\u001B[43m,\u001B[49m\u001B[43m \u001B[49m\u001B[43mslicing_spec\u001B[49m\u001B[43m \u001B[49m\u001B[38;5;241;43m=\u001B[39;49m\u001B[43m \u001B[49m\u001B[43mtfma\u001B[49m\u001B[38;5;241;43m.\u001B[39;49m\u001B[43mslicer\u001B[49m\u001B[38;5;241;43m.\u001B[39;49m\u001B[43mSingleSliceSpec\u001B[49m\u001B[43m(\u001B[49m\u001B[43mcolumns\u001B[49m\u001B[38;5;241;43m=\u001B[39;49m\u001B[43m[\u001B[49m\u001B[38;5;124;43m'\u001B[39;49m\u001B[38;5;124;43mtrip_start_hour\u001B[39;49m\u001B[38;5;124;43m'\u001B[39;49m\u001B[43m]\u001B[49m\u001B[43m)\u001B[49m\u001B[43m)\u001B[49m\n",
      "File \u001B[0;32m/opt/anaconda3/envs/epm-spec-ml-39/lib/python3.9/site-packages/tensorflow_model_analysis/view/widget_view.py:52\u001B[0m, in \u001B[0;36mrender_slicing_metrics\u001B[0;34m(result, slicing_column, slicing_spec, weighted_example_column, event_handlers)\u001B[0m\n\u001B[1;32m     50\u001B[0m \u001B[38;5;28;01mif\u001B[39;00m slicing_spec \u001B[38;5;129;01mand\u001B[39;00m \u001B[38;5;28misinstance\u001B[39m(slicing_spec, config_pb2\u001B[38;5;241m.\u001B[39mSlicingSpec):\n\u001B[1;32m     51\u001B[0m   slicing_spec \u001B[38;5;241m=\u001B[39m slicer\u001B[38;5;241m.\u001B[39mSingleSliceSpec(spec\u001B[38;5;241m=\u001B[39mslicing_spec)\n\u001B[0;32m---> 52\u001B[0m data \u001B[38;5;241m=\u001B[39m \u001B[43mutil\u001B[49m\u001B[38;5;241;43m.\u001B[39;49m\u001B[43mget_slicing_metrics\u001B[49m\u001B[43m(\u001B[49m\u001B[43mresult\u001B[49m\u001B[38;5;241;43m.\u001B[39;49m\u001B[43mslicing_metrics\u001B[49m\u001B[43m,\u001B[49m\u001B[43m \u001B[49m\u001B[43mslicing_column\u001B[49m\u001B[43m,\u001B[49m\n\u001B[1;32m     53\u001B[0m \u001B[43m                                \u001B[49m\u001B[43mslicing_spec\u001B[49m\u001B[43m)\u001B[49m\n\u001B[1;32m     54\u001B[0m cfg \u001B[38;5;241m=\u001B[39m util\u001B[38;5;241m.\u001B[39mget_slicing_config(result\u001B[38;5;241m.\u001B[39mconfig, weighted_example_column)\n\u001B[1;32m     56\u001B[0m \u001B[38;5;28;01mreturn\u001B[39;00m visualization\u001B[38;5;241m.\u001B[39mrender_slicing_metrics(\n\u001B[1;32m     57\u001B[0m     data, cfg, event_handlers\u001B[38;5;241m=\u001B[39mevent_handlers)\n",
      "File \u001B[0;32m/opt/anaconda3/envs/epm-spec-ml-39/lib/python3.9/site-packages/tensorflow_model_analysis/view/util.py:74\u001B[0m, in \u001B[0;36mget_slicing_metrics\u001B[0;34m(results, slicing_column, slicing_spec)\u001B[0m\n\u001B[1;32m     72\u001B[0m     \u001B[38;5;28;01mraise\u001B[39;00m \u001B[38;5;167;01mValueError\u001B[39;00m(\u001B[38;5;124m'\u001B[39m\u001B[38;5;124mNo slices found for \u001B[39m\u001B[38;5;132;01m%s\u001B[39;00m\u001B[38;5;124m'\u001B[39m \u001B[38;5;241m%\u001B[39m slicing_column)\n\u001B[1;32m     73\u001B[0m   \u001B[38;5;28;01melse\u001B[39;00m:\n\u001B[0;32m---> 74\u001B[0m     \u001B[38;5;28;01mraise\u001B[39;00m \u001B[38;5;167;01mValueError\u001B[39;00m(\u001B[38;5;124m'\u001B[39m\u001B[38;5;124mNo slices found for \u001B[39m\u001B[38;5;132;01m%s\u001B[39;00m\u001B[38;5;124m'\u001B[39m \u001B[38;5;241m%\u001B[39m slicing_spec)\n\u001B[1;32m     75\u001B[0m \u001B[38;5;28;01melif\u001B[39;00m \u001B[38;5;129;01mnot\u001B[39;00m slicing_column \u001B[38;5;129;01mand\u001B[39;00m \u001B[38;5;129;01mnot\u001B[39;00m slicing_spec \u001B[38;5;129;01mand\u001B[39;00m slice_count \u001B[38;5;241m>\u001B[39m \u001B[38;5;241m1\u001B[39m:\n\u001B[1;32m     76\u001B[0m   \u001B[38;5;28;01mraise\u001B[39;00m \u001B[38;5;167;01mValueError\u001B[39;00m(\u001B[38;5;124m'\u001B[39m\u001B[38;5;124mMore than one slice found for \u001B[39m\u001B[38;5;132;01m%s\u001B[39;00m\u001B[38;5;124m'\u001B[39m \u001B[38;5;241m%\u001B[39m\n\u001B[1;32m     77\u001B[0m                    slicer\u001B[38;5;241m.\u001B[39mOVERALL_SLICE_NAME)\n",
      "\u001B[0;31mValueError\u001B[0m: No slices found for SingleSliceSpec(columns=frozenset({'trip_start_hour'}), features=frozenset())"
     ]
    }
   ],
   "source": [
    "eval_result = tfma.load_eval_result(model_eval_path)\n",
    "tfma.view.render_slicing_metrics(eval_result, slicing_spec = tfma.slicer.SingleSliceSpec(columns=['trip_start_hour']))"
   ]
  },
  {
   "cell_type": "code",
   "execution_count": null,
   "outputs": [],
   "source": [],
   "metadata": {
    "collapsed": false
   }
  }
 ],
 "metadata": {
  "kernelspec": {
   "display_name": "Python 3",
   "language": "python",
   "name": "python3"
  },
  "language_info": {
   "codemirror_mode": {
    "name": "ipython",
    "version": 3
   },
   "file_extension": ".py",
   "mimetype": "text/x-python",
   "name": "python",
   "nbconvert_exporter": "python",
   "pygments_lexer": "ipython3",
   "version": "3.7.5rc1"
  },
  "pycharm": {
   "stem_cell": {
    "cell_type": "raw",
    "source": [],
    "metadata": {
     "collapsed": false
    }
   }
  }
 },
 "nbformat": 4,
 "nbformat_minor": 2
}
